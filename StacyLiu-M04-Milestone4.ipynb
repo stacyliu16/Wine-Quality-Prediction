{
 "cells": [
  {
   "cell_type": "markdown",
   "metadata": {},
   "source": [
    "# Milestone 4: Independent Project\n",
    "\n",
    "## Author - Stacy Liu"
   ]
  },
  {
   "cell_type": "markdown",
   "metadata": {},
   "source": [
    "## Abstract\n",
    "\n",
    "### Problem\n",
    "1. Which physiochemical features are most relevant in determining the quality of wine? And are they different for red and white?\n",
    "2. And are the difference signficiant based on classical, bootstrap, and Bayesian method? \n",
    "3. Predict the quality scores of wine "
   ]
  },
  {
   "cell_type": "markdown",
   "metadata": {},
   "source": [
    "### Conclusion\n",
    "1. From milestone 1, we found that quality of wine is more correlated (corr>0.2) with the following features: alcohol, density, volatile acidity, and chlorides. \n",
    "2. And from milestone 2, we found that the top 2 features (alcohol and density) are significantly different between red and white wines. \n",
    "3. PCA was used to narrow down model input features. 'pH' and'sulphates' were deemed not significant.\n",
    "4. Quality scores of wine were then predicted using the following models\n",
    "    - Multivariant linear regression: The RMSE is 1.39 (~20% of the target mean), meaning that the model can make general good prediction, but is not very accurate\n",
    "    - Naive Bayes model: The RMSE is 1.02 which is better than the RMSE from the multivariant linear regression model. However the accuracy score is only 0.413\n",
    "    - Gradient Boosting Classifier: The RMSE is 0.6375, about half that of the other two models. Since the LightGBM model gave us the lowest RMSE, this model should be used to make prediction of wine quality."
   ]
  },
  {
   "cell_type": "markdown",
   "metadata": {},
   "source": [
    "### About the data set\n",
    "\n",
    "This dataset is from the University of California Irving Machine Learning Repository The data was compiled by Paulo Cortez from the following sources:\n",
    "\n",
    "P. Cortez, A. Cerdeira, F. Almeida, T. Matos and J. Reis. Modeling wine preferences by data mining from physicochemical properties. In Decision Support Systems, Elsevier, 47(4):547-553, 2009."
   ]
  },
  {
   "cell_type": "code",
   "execution_count": 1,
   "metadata": {},
   "outputs": [],
   "source": [
    "# Location of dataset\n",
    "filename_red = \"https://archive.ics.uci.edu/ml/machine-learning-databases/wine-quality/winequality-red.csv\"\n",
    "filename_white = \"https://archive.ics.uci.edu/ml/machine-learning-databases/wine-quality/winequality-white.csv\""
   ]
  },
  {
   "cell_type": "code",
   "execution_count": 2,
   "metadata": {},
   "outputs": [],
   "source": [
    "# Load necessary libraries\n",
    "import pandas as pd\n",
    "import numpy as np\n",
    "from matplotlib import pyplot as plt\n",
    "import seaborn as sns\n",
    "import scipy.stats as ss\n",
    "import math\n",
    "import statsmodels.formula.api as sm\n",
    "from sklearn.linear_model import LinearRegression\n",
    "from sklearn.metrics import mean_squared_error, r2_score\n",
    "from sklearn.decomposition import PCA\n",
    "from sklearn.preprocessing import LabelEncoder \n",
    "from sklearn.model_selection import train_test_split\n",
    "from sklearn.preprocessing import StandardScaler\n",
    "from sklearn import metrics\n",
    "import sklearn.naive_bayes as n_b\n",
    "import statsmodels.api as sma\n",
    "import lightgbm as lgb\n",
    "from sklearn import preprocessing, metrics\n",
    "import gc\n",
    "import os"
   ]
  },
  {
   "cell_type": "markdown",
   "metadata": {},
   "source": [
    "### Load the data set"
   ]
  },
  {
   "cell_type": "code",
   "execution_count": 3,
   "metadata": {},
   "outputs": [],
   "source": [
    "red_wine=pd.read_csv(filename_red, delimiter=\";\", header=0)\n",
    "white_wine=pd.read_csv(filename_white, delimiter=\";\", header=0)"
   ]
  },
  {
   "cell_type": "markdown",
   "metadata": {},
   "source": [
    "# Milestone 1: Initial exploration of dataset"
   ]
  },
  {
   "cell_type": "markdown",
   "metadata": {},
   "source": [
    "First, we'll take a look at the dimensions and data types of the column of the data frame"
   ]
  },
  {
   "cell_type": "code",
   "execution_count": 4,
   "metadata": {},
   "outputs": [
    {
     "name": "stdout",
     "output_type": "stream",
     "text": [
      "(1599, 12)\n",
      "fixed acidity           float64\n",
      "volatile acidity        float64\n",
      "citric acid             float64\n",
      "residual sugar          float64\n",
      "chlorides               float64\n",
      "free sulfur dioxide     float64\n",
      "total sulfur dioxide    float64\n",
      "density                 float64\n",
      "pH                      float64\n",
      "sulphates               float64\n",
      "alcohol                 float64\n",
      "quality                   int64\n",
      "dtype: object\n",
      "(4898, 12)\n",
      "fixed acidity           float64\n",
      "volatile acidity        float64\n",
      "citric acid             float64\n",
      "residual sugar          float64\n",
      "chlorides               float64\n",
      "free sulfur dioxide     float64\n",
      "total sulfur dioxide    float64\n",
      "density                 float64\n",
      "pH                      float64\n",
      "sulphates               float64\n",
      "alcohol                 float64\n",
      "quality                   int64\n",
      "dtype: object\n"
     ]
    }
   ],
   "source": [
    "print(red_wine.shape)\n",
    "print(red_wine.dtypes)\n",
    "print(white_wine.shape)\n",
    "print(white_wine.dtypes)"
   ]
  },
  {
   "cell_type": "markdown",
   "metadata": {},
   "source": [
    "Some key things to note about the red_wine and white_wine dataset:\n",
    "\n",
    "- There are 1599 observations in the red wine data set and 4898 observations in the white wine data set\n",
    "- Both have 12 variables with all of them being numeric"
   ]
  },
  {
   "cell_type": "markdown",
   "metadata": {},
   "source": [
    "### Summary Statistics"
   ]
  },
  {
   "cell_type": "code",
   "execution_count": 5,
   "metadata": {},
   "outputs": [
    {
     "data": {
      "text/html": [
       "<div>\n",
       "<style scoped>\n",
       "    .dataframe tbody tr th:only-of-type {\n",
       "        vertical-align: middle;\n",
       "    }\n",
       "\n",
       "    .dataframe tbody tr th {\n",
       "        vertical-align: top;\n",
       "    }\n",
       "\n",
       "    .dataframe thead th {\n",
       "        text-align: right;\n",
       "    }\n",
       "</style>\n",
       "<table border=\"1\" class=\"dataframe\">\n",
       "  <thead>\n",
       "    <tr style=\"text-align: right;\">\n",
       "      <th></th>\n",
       "      <th>fixed acidity</th>\n",
       "      <th>volatile acidity</th>\n",
       "      <th>citric acid</th>\n",
       "      <th>residual sugar</th>\n",
       "      <th>chlorides</th>\n",
       "      <th>free sulfur dioxide</th>\n",
       "      <th>total sulfur dioxide</th>\n",
       "      <th>density</th>\n",
       "      <th>pH</th>\n",
       "      <th>sulphates</th>\n",
       "      <th>alcohol</th>\n",
       "      <th>quality</th>\n",
       "    </tr>\n",
       "  </thead>\n",
       "  <tbody>\n",
       "    <tr>\n",
       "      <th>count</th>\n",
       "      <td>1599.000000</td>\n",
       "      <td>1599.000000</td>\n",
       "      <td>1599.000000</td>\n",
       "      <td>1599.000000</td>\n",
       "      <td>1599.000000</td>\n",
       "      <td>1599.000000</td>\n",
       "      <td>1599.000000</td>\n",
       "      <td>1599.000000</td>\n",
       "      <td>1599.000000</td>\n",
       "      <td>1599.000000</td>\n",
       "      <td>1599.000000</td>\n",
       "      <td>1599.000000</td>\n",
       "    </tr>\n",
       "    <tr>\n",
       "      <th>mean</th>\n",
       "      <td>8.319637</td>\n",
       "      <td>0.527821</td>\n",
       "      <td>0.270976</td>\n",
       "      <td>2.538806</td>\n",
       "      <td>0.087467</td>\n",
       "      <td>15.874922</td>\n",
       "      <td>46.467792</td>\n",
       "      <td>0.996747</td>\n",
       "      <td>3.311113</td>\n",
       "      <td>0.658149</td>\n",
       "      <td>10.422983</td>\n",
       "      <td>5.636023</td>\n",
       "    </tr>\n",
       "    <tr>\n",
       "      <th>std</th>\n",
       "      <td>1.741096</td>\n",
       "      <td>0.179060</td>\n",
       "      <td>0.194801</td>\n",
       "      <td>1.409928</td>\n",
       "      <td>0.047065</td>\n",
       "      <td>10.460157</td>\n",
       "      <td>32.895324</td>\n",
       "      <td>0.001887</td>\n",
       "      <td>0.154386</td>\n",
       "      <td>0.169507</td>\n",
       "      <td>1.065668</td>\n",
       "      <td>0.807569</td>\n",
       "    </tr>\n",
       "    <tr>\n",
       "      <th>min</th>\n",
       "      <td>4.600000</td>\n",
       "      <td>0.120000</td>\n",
       "      <td>0.000000</td>\n",
       "      <td>0.900000</td>\n",
       "      <td>0.012000</td>\n",
       "      <td>1.000000</td>\n",
       "      <td>6.000000</td>\n",
       "      <td>0.990070</td>\n",
       "      <td>2.740000</td>\n",
       "      <td>0.330000</td>\n",
       "      <td>8.400000</td>\n",
       "      <td>3.000000</td>\n",
       "    </tr>\n",
       "    <tr>\n",
       "      <th>25%</th>\n",
       "      <td>7.100000</td>\n",
       "      <td>0.390000</td>\n",
       "      <td>0.090000</td>\n",
       "      <td>1.900000</td>\n",
       "      <td>0.070000</td>\n",
       "      <td>7.000000</td>\n",
       "      <td>22.000000</td>\n",
       "      <td>0.995600</td>\n",
       "      <td>3.210000</td>\n",
       "      <td>0.550000</td>\n",
       "      <td>9.500000</td>\n",
       "      <td>5.000000</td>\n",
       "    </tr>\n",
       "    <tr>\n",
       "      <th>50%</th>\n",
       "      <td>7.900000</td>\n",
       "      <td>0.520000</td>\n",
       "      <td>0.260000</td>\n",
       "      <td>2.200000</td>\n",
       "      <td>0.079000</td>\n",
       "      <td>14.000000</td>\n",
       "      <td>38.000000</td>\n",
       "      <td>0.996750</td>\n",
       "      <td>3.310000</td>\n",
       "      <td>0.620000</td>\n",
       "      <td>10.200000</td>\n",
       "      <td>6.000000</td>\n",
       "    </tr>\n",
       "    <tr>\n",
       "      <th>75%</th>\n",
       "      <td>9.200000</td>\n",
       "      <td>0.640000</td>\n",
       "      <td>0.420000</td>\n",
       "      <td>2.600000</td>\n",
       "      <td>0.090000</td>\n",
       "      <td>21.000000</td>\n",
       "      <td>62.000000</td>\n",
       "      <td>0.997835</td>\n",
       "      <td>3.400000</td>\n",
       "      <td>0.730000</td>\n",
       "      <td>11.100000</td>\n",
       "      <td>6.000000</td>\n",
       "    </tr>\n",
       "    <tr>\n",
       "      <th>max</th>\n",
       "      <td>15.900000</td>\n",
       "      <td>1.580000</td>\n",
       "      <td>1.000000</td>\n",
       "      <td>15.500000</td>\n",
       "      <td>0.611000</td>\n",
       "      <td>72.000000</td>\n",
       "      <td>289.000000</td>\n",
       "      <td>1.003690</td>\n",
       "      <td>4.010000</td>\n",
       "      <td>2.000000</td>\n",
       "      <td>14.900000</td>\n",
       "      <td>8.000000</td>\n",
       "    </tr>\n",
       "  </tbody>\n",
       "</table>\n",
       "</div>"
      ],
      "text/plain": [
       "       fixed acidity  volatile acidity  citric acid  residual sugar  \\\n",
       "count    1599.000000       1599.000000  1599.000000     1599.000000   \n",
       "mean        8.319637          0.527821     0.270976        2.538806   \n",
       "std         1.741096          0.179060     0.194801        1.409928   \n",
       "min         4.600000          0.120000     0.000000        0.900000   \n",
       "25%         7.100000          0.390000     0.090000        1.900000   \n",
       "50%         7.900000          0.520000     0.260000        2.200000   \n",
       "75%         9.200000          0.640000     0.420000        2.600000   \n",
       "max        15.900000          1.580000     1.000000       15.500000   \n",
       "\n",
       "         chlorides  free sulfur dioxide  total sulfur dioxide      density  \\\n",
       "count  1599.000000          1599.000000           1599.000000  1599.000000   \n",
       "mean      0.087467            15.874922             46.467792     0.996747   \n",
       "std       0.047065            10.460157             32.895324     0.001887   \n",
       "min       0.012000             1.000000              6.000000     0.990070   \n",
       "25%       0.070000             7.000000             22.000000     0.995600   \n",
       "50%       0.079000            14.000000             38.000000     0.996750   \n",
       "75%       0.090000            21.000000             62.000000     0.997835   \n",
       "max       0.611000            72.000000            289.000000     1.003690   \n",
       "\n",
       "                pH    sulphates      alcohol      quality  \n",
       "count  1599.000000  1599.000000  1599.000000  1599.000000  \n",
       "mean      3.311113     0.658149    10.422983     5.636023  \n",
       "std       0.154386     0.169507     1.065668     0.807569  \n",
       "min       2.740000     0.330000     8.400000     3.000000  \n",
       "25%       3.210000     0.550000     9.500000     5.000000  \n",
       "50%       3.310000     0.620000    10.200000     6.000000  \n",
       "75%       3.400000     0.730000    11.100000     6.000000  \n",
       "max       4.010000     2.000000    14.900000     8.000000  "
      ]
     },
     "execution_count": 5,
     "metadata": {},
     "output_type": "execute_result"
    }
   ],
   "source": [
    "red_wine.describe()"
   ]
  },
  {
   "cell_type": "code",
   "execution_count": 6,
   "metadata": {},
   "outputs": [
    {
     "data": {
      "text/html": [
       "<div>\n",
       "<style scoped>\n",
       "    .dataframe tbody tr th:only-of-type {\n",
       "        vertical-align: middle;\n",
       "    }\n",
       "\n",
       "    .dataframe tbody tr th {\n",
       "        vertical-align: top;\n",
       "    }\n",
       "\n",
       "    .dataframe thead th {\n",
       "        text-align: right;\n",
       "    }\n",
       "</style>\n",
       "<table border=\"1\" class=\"dataframe\">\n",
       "  <thead>\n",
       "    <tr style=\"text-align: right;\">\n",
       "      <th></th>\n",
       "      <th>fixed acidity</th>\n",
       "      <th>volatile acidity</th>\n",
       "      <th>citric acid</th>\n",
       "      <th>residual sugar</th>\n",
       "      <th>chlorides</th>\n",
       "      <th>free sulfur dioxide</th>\n",
       "      <th>total sulfur dioxide</th>\n",
       "      <th>density</th>\n",
       "      <th>pH</th>\n",
       "      <th>sulphates</th>\n",
       "      <th>alcohol</th>\n",
       "      <th>quality</th>\n",
       "    </tr>\n",
       "  </thead>\n",
       "  <tbody>\n",
       "    <tr>\n",
       "      <th>count</th>\n",
       "      <td>4898.000000</td>\n",
       "      <td>4898.000000</td>\n",
       "      <td>4898.000000</td>\n",
       "      <td>4898.000000</td>\n",
       "      <td>4898.000000</td>\n",
       "      <td>4898.000000</td>\n",
       "      <td>4898.000000</td>\n",
       "      <td>4898.000000</td>\n",
       "      <td>4898.000000</td>\n",
       "      <td>4898.000000</td>\n",
       "      <td>4898.000000</td>\n",
       "      <td>4898.000000</td>\n",
       "    </tr>\n",
       "    <tr>\n",
       "      <th>mean</th>\n",
       "      <td>6.854788</td>\n",
       "      <td>0.278241</td>\n",
       "      <td>0.334192</td>\n",
       "      <td>6.391415</td>\n",
       "      <td>0.045772</td>\n",
       "      <td>35.308085</td>\n",
       "      <td>138.360657</td>\n",
       "      <td>0.994027</td>\n",
       "      <td>3.188267</td>\n",
       "      <td>0.489847</td>\n",
       "      <td>10.514267</td>\n",
       "      <td>5.877909</td>\n",
       "    </tr>\n",
       "    <tr>\n",
       "      <th>std</th>\n",
       "      <td>0.843868</td>\n",
       "      <td>0.100795</td>\n",
       "      <td>0.121020</td>\n",
       "      <td>5.072058</td>\n",
       "      <td>0.021848</td>\n",
       "      <td>17.007137</td>\n",
       "      <td>42.498065</td>\n",
       "      <td>0.002991</td>\n",
       "      <td>0.151001</td>\n",
       "      <td>0.114126</td>\n",
       "      <td>1.230621</td>\n",
       "      <td>0.885639</td>\n",
       "    </tr>\n",
       "    <tr>\n",
       "      <th>min</th>\n",
       "      <td>3.800000</td>\n",
       "      <td>0.080000</td>\n",
       "      <td>0.000000</td>\n",
       "      <td>0.600000</td>\n",
       "      <td>0.009000</td>\n",
       "      <td>2.000000</td>\n",
       "      <td>9.000000</td>\n",
       "      <td>0.987110</td>\n",
       "      <td>2.720000</td>\n",
       "      <td>0.220000</td>\n",
       "      <td>8.000000</td>\n",
       "      <td>3.000000</td>\n",
       "    </tr>\n",
       "    <tr>\n",
       "      <th>25%</th>\n",
       "      <td>6.300000</td>\n",
       "      <td>0.210000</td>\n",
       "      <td>0.270000</td>\n",
       "      <td>1.700000</td>\n",
       "      <td>0.036000</td>\n",
       "      <td>23.000000</td>\n",
       "      <td>108.000000</td>\n",
       "      <td>0.991723</td>\n",
       "      <td>3.090000</td>\n",
       "      <td>0.410000</td>\n",
       "      <td>9.500000</td>\n",
       "      <td>5.000000</td>\n",
       "    </tr>\n",
       "    <tr>\n",
       "      <th>50%</th>\n",
       "      <td>6.800000</td>\n",
       "      <td>0.260000</td>\n",
       "      <td>0.320000</td>\n",
       "      <td>5.200000</td>\n",
       "      <td>0.043000</td>\n",
       "      <td>34.000000</td>\n",
       "      <td>134.000000</td>\n",
       "      <td>0.993740</td>\n",
       "      <td>3.180000</td>\n",
       "      <td>0.470000</td>\n",
       "      <td>10.400000</td>\n",
       "      <td>6.000000</td>\n",
       "    </tr>\n",
       "    <tr>\n",
       "      <th>75%</th>\n",
       "      <td>7.300000</td>\n",
       "      <td>0.320000</td>\n",
       "      <td>0.390000</td>\n",
       "      <td>9.900000</td>\n",
       "      <td>0.050000</td>\n",
       "      <td>46.000000</td>\n",
       "      <td>167.000000</td>\n",
       "      <td>0.996100</td>\n",
       "      <td>3.280000</td>\n",
       "      <td>0.550000</td>\n",
       "      <td>11.400000</td>\n",
       "      <td>6.000000</td>\n",
       "    </tr>\n",
       "    <tr>\n",
       "      <th>max</th>\n",
       "      <td>14.200000</td>\n",
       "      <td>1.100000</td>\n",
       "      <td>1.660000</td>\n",
       "      <td>65.800000</td>\n",
       "      <td>0.346000</td>\n",
       "      <td>289.000000</td>\n",
       "      <td>440.000000</td>\n",
       "      <td>1.038980</td>\n",
       "      <td>3.820000</td>\n",
       "      <td>1.080000</td>\n",
       "      <td>14.200000</td>\n",
       "      <td>9.000000</td>\n",
       "    </tr>\n",
       "  </tbody>\n",
       "</table>\n",
       "</div>"
      ],
      "text/plain": [
       "       fixed acidity  volatile acidity  citric acid  residual sugar  \\\n",
       "count    4898.000000       4898.000000  4898.000000     4898.000000   \n",
       "mean        6.854788          0.278241     0.334192        6.391415   \n",
       "std         0.843868          0.100795     0.121020        5.072058   \n",
       "min         3.800000          0.080000     0.000000        0.600000   \n",
       "25%         6.300000          0.210000     0.270000        1.700000   \n",
       "50%         6.800000          0.260000     0.320000        5.200000   \n",
       "75%         7.300000          0.320000     0.390000        9.900000   \n",
       "max        14.200000          1.100000     1.660000       65.800000   \n",
       "\n",
       "         chlorides  free sulfur dioxide  total sulfur dioxide      density  \\\n",
       "count  4898.000000          4898.000000           4898.000000  4898.000000   \n",
       "mean      0.045772            35.308085            138.360657     0.994027   \n",
       "std       0.021848            17.007137             42.498065     0.002991   \n",
       "min       0.009000             2.000000              9.000000     0.987110   \n",
       "25%       0.036000            23.000000            108.000000     0.991723   \n",
       "50%       0.043000            34.000000            134.000000     0.993740   \n",
       "75%       0.050000            46.000000            167.000000     0.996100   \n",
       "max       0.346000           289.000000            440.000000     1.038980   \n",
       "\n",
       "                pH    sulphates      alcohol      quality  \n",
       "count  4898.000000  4898.000000  4898.000000  4898.000000  \n",
       "mean      3.188267     0.489847    10.514267     5.877909  \n",
       "std       0.151001     0.114126     1.230621     0.885639  \n",
       "min       2.720000     0.220000     8.000000     3.000000  \n",
       "25%       3.090000     0.410000     9.500000     5.000000  \n",
       "50%       3.180000     0.470000    10.400000     6.000000  \n",
       "75%       3.280000     0.550000    11.400000     6.000000  \n",
       "max       3.820000     1.080000    14.200000     9.000000  "
      ]
     },
     "execution_count": 6,
     "metadata": {},
     "output_type": "execute_result"
    }
   ],
   "source": [
    "white_wine.describe()"
   ]
  },
  {
   "cell_type": "markdown",
   "metadata": {},
   "source": [
    "The summary provides some useful information:\n",
    "\n",
    "- White wines are rated on average about 0.2 points higher than red wines, but also have a higher standard deviation of 0.89 compared to red wine's std of 0.81\n",
    "- There also appear to varying degrees of acidity, chlorides, sulfur dioxide, etc. between the two wines\n",
    "\n",
    "I'll combine the two datasets in the next section to allow for easier manipulation"
   ]
  },
  {
   "cell_type": "markdown",
   "metadata": {},
   "source": [
    "#### Concatenate red and white wine datasets"
   ]
  },
  {
   "cell_type": "code",
   "execution_count": 7,
   "metadata": {},
   "outputs": [],
   "source": [
    "red_wine.insert(0,\"type\",'red', True)\n",
    "white_wine.insert(0,\"type\",'white', True)\n",
    "wine=pd.concat([red_wine, white_wine])"
   ]
  },
  {
   "cell_type": "markdown",
   "metadata": {},
   "source": [
    "#### Examine the joint data"
   ]
  },
  {
   "cell_type": "code",
   "execution_count": 8,
   "metadata": {},
   "outputs": [
    {
     "data": {
      "text/html": [
       "<div>\n",
       "<style scoped>\n",
       "    .dataframe tbody tr th:only-of-type {\n",
       "        vertical-align: middle;\n",
       "    }\n",
       "\n",
       "    .dataframe tbody tr th {\n",
       "        vertical-align: top;\n",
       "    }\n",
       "\n",
       "    .dataframe thead th {\n",
       "        text-align: right;\n",
       "    }\n",
       "</style>\n",
       "<table border=\"1\" class=\"dataframe\">\n",
       "  <thead>\n",
       "    <tr style=\"text-align: right;\">\n",
       "      <th></th>\n",
       "      <th>type</th>\n",
       "      <th>fixed acidity</th>\n",
       "      <th>volatile acidity</th>\n",
       "      <th>citric acid</th>\n",
       "      <th>residual sugar</th>\n",
       "      <th>chlorides</th>\n",
       "      <th>free sulfur dioxide</th>\n",
       "      <th>total sulfur dioxide</th>\n",
       "      <th>density</th>\n",
       "      <th>pH</th>\n",
       "      <th>sulphates</th>\n",
       "      <th>alcohol</th>\n",
       "      <th>quality</th>\n",
       "    </tr>\n",
       "  </thead>\n",
       "  <tbody>\n",
       "    <tr>\n",
       "      <th>0</th>\n",
       "      <td>red</td>\n",
       "      <td>7.4</td>\n",
       "      <td>0.70</td>\n",
       "      <td>0.00</td>\n",
       "      <td>1.9</td>\n",
       "      <td>0.076</td>\n",
       "      <td>11.0</td>\n",
       "      <td>34.0</td>\n",
       "      <td>0.9978</td>\n",
       "      <td>3.51</td>\n",
       "      <td>0.56</td>\n",
       "      <td>9.4</td>\n",
       "      <td>5</td>\n",
       "    </tr>\n",
       "    <tr>\n",
       "      <th>1</th>\n",
       "      <td>red</td>\n",
       "      <td>7.8</td>\n",
       "      <td>0.88</td>\n",
       "      <td>0.00</td>\n",
       "      <td>2.6</td>\n",
       "      <td>0.098</td>\n",
       "      <td>25.0</td>\n",
       "      <td>67.0</td>\n",
       "      <td>0.9968</td>\n",
       "      <td>3.20</td>\n",
       "      <td>0.68</td>\n",
       "      <td>9.8</td>\n",
       "      <td>5</td>\n",
       "    </tr>\n",
       "    <tr>\n",
       "      <th>2</th>\n",
       "      <td>red</td>\n",
       "      <td>7.8</td>\n",
       "      <td>0.76</td>\n",
       "      <td>0.04</td>\n",
       "      <td>2.3</td>\n",
       "      <td>0.092</td>\n",
       "      <td>15.0</td>\n",
       "      <td>54.0</td>\n",
       "      <td>0.9970</td>\n",
       "      <td>3.26</td>\n",
       "      <td>0.65</td>\n",
       "      <td>9.8</td>\n",
       "      <td>5</td>\n",
       "    </tr>\n",
       "    <tr>\n",
       "      <th>3</th>\n",
       "      <td>red</td>\n",
       "      <td>11.2</td>\n",
       "      <td>0.28</td>\n",
       "      <td>0.56</td>\n",
       "      <td>1.9</td>\n",
       "      <td>0.075</td>\n",
       "      <td>17.0</td>\n",
       "      <td>60.0</td>\n",
       "      <td>0.9980</td>\n",
       "      <td>3.16</td>\n",
       "      <td>0.58</td>\n",
       "      <td>9.8</td>\n",
       "      <td>6</td>\n",
       "    </tr>\n",
       "    <tr>\n",
       "      <th>4</th>\n",
       "      <td>red</td>\n",
       "      <td>7.4</td>\n",
       "      <td>0.70</td>\n",
       "      <td>0.00</td>\n",
       "      <td>1.9</td>\n",
       "      <td>0.076</td>\n",
       "      <td>11.0</td>\n",
       "      <td>34.0</td>\n",
       "      <td>0.9978</td>\n",
       "      <td>3.51</td>\n",
       "      <td>0.56</td>\n",
       "      <td>9.4</td>\n",
       "      <td>5</td>\n",
       "    </tr>\n",
       "    <tr>\n",
       "      <th>5</th>\n",
       "      <td>red</td>\n",
       "      <td>7.4</td>\n",
       "      <td>0.66</td>\n",
       "      <td>0.00</td>\n",
       "      <td>1.8</td>\n",
       "      <td>0.075</td>\n",
       "      <td>13.0</td>\n",
       "      <td>40.0</td>\n",
       "      <td>0.9978</td>\n",
       "      <td>3.51</td>\n",
       "      <td>0.56</td>\n",
       "      <td>9.4</td>\n",
       "      <td>5</td>\n",
       "    </tr>\n",
       "    <tr>\n",
       "      <th>6</th>\n",
       "      <td>red</td>\n",
       "      <td>7.9</td>\n",
       "      <td>0.60</td>\n",
       "      <td>0.06</td>\n",
       "      <td>1.6</td>\n",
       "      <td>0.069</td>\n",
       "      <td>15.0</td>\n",
       "      <td>59.0</td>\n",
       "      <td>0.9964</td>\n",
       "      <td>3.30</td>\n",
       "      <td>0.46</td>\n",
       "      <td>9.4</td>\n",
       "      <td>5</td>\n",
       "    </tr>\n",
       "    <tr>\n",
       "      <th>7</th>\n",
       "      <td>red</td>\n",
       "      <td>7.3</td>\n",
       "      <td>0.65</td>\n",
       "      <td>0.00</td>\n",
       "      <td>1.2</td>\n",
       "      <td>0.065</td>\n",
       "      <td>15.0</td>\n",
       "      <td>21.0</td>\n",
       "      <td>0.9946</td>\n",
       "      <td>3.39</td>\n",
       "      <td>0.47</td>\n",
       "      <td>10.0</td>\n",
       "      <td>7</td>\n",
       "    </tr>\n",
       "    <tr>\n",
       "      <th>8</th>\n",
       "      <td>red</td>\n",
       "      <td>7.8</td>\n",
       "      <td>0.58</td>\n",
       "      <td>0.02</td>\n",
       "      <td>2.0</td>\n",
       "      <td>0.073</td>\n",
       "      <td>9.0</td>\n",
       "      <td>18.0</td>\n",
       "      <td>0.9968</td>\n",
       "      <td>3.36</td>\n",
       "      <td>0.57</td>\n",
       "      <td>9.5</td>\n",
       "      <td>7</td>\n",
       "    </tr>\n",
       "    <tr>\n",
       "      <th>9</th>\n",
       "      <td>red</td>\n",
       "      <td>7.5</td>\n",
       "      <td>0.50</td>\n",
       "      <td>0.36</td>\n",
       "      <td>6.1</td>\n",
       "      <td>0.071</td>\n",
       "      <td>17.0</td>\n",
       "      <td>102.0</td>\n",
       "      <td>0.9978</td>\n",
       "      <td>3.35</td>\n",
       "      <td>0.80</td>\n",
       "      <td>10.5</td>\n",
       "      <td>5</td>\n",
       "    </tr>\n",
       "  </tbody>\n",
       "</table>\n",
       "</div>"
      ],
      "text/plain": [
       "  type  fixed acidity  volatile acidity  citric acid  residual sugar  \\\n",
       "0  red            7.4              0.70         0.00             1.9   \n",
       "1  red            7.8              0.88         0.00             2.6   \n",
       "2  red            7.8              0.76         0.04             2.3   \n",
       "3  red           11.2              0.28         0.56             1.9   \n",
       "4  red            7.4              0.70         0.00             1.9   \n",
       "5  red            7.4              0.66         0.00             1.8   \n",
       "6  red            7.9              0.60         0.06             1.6   \n",
       "7  red            7.3              0.65         0.00             1.2   \n",
       "8  red            7.8              0.58         0.02             2.0   \n",
       "9  red            7.5              0.50         0.36             6.1   \n",
       "\n",
       "   chlorides  free sulfur dioxide  total sulfur dioxide  density    pH  \\\n",
       "0      0.076                 11.0                  34.0   0.9978  3.51   \n",
       "1      0.098                 25.0                  67.0   0.9968  3.20   \n",
       "2      0.092                 15.0                  54.0   0.9970  3.26   \n",
       "3      0.075                 17.0                  60.0   0.9980  3.16   \n",
       "4      0.076                 11.0                  34.0   0.9978  3.51   \n",
       "5      0.075                 13.0                  40.0   0.9978  3.51   \n",
       "6      0.069                 15.0                  59.0   0.9964  3.30   \n",
       "7      0.065                 15.0                  21.0   0.9946  3.39   \n",
       "8      0.073                  9.0                  18.0   0.9968  3.36   \n",
       "9      0.071                 17.0                 102.0   0.9978  3.35   \n",
       "\n",
       "   sulphates  alcohol  quality  \n",
       "0       0.56      9.4        5  \n",
       "1       0.68      9.8        5  \n",
       "2       0.65      9.8        5  \n",
       "3       0.58      9.8        6  \n",
       "4       0.56      9.4        5  \n",
       "5       0.56      9.4        5  \n",
       "6       0.46      9.4        5  \n",
       "7       0.47     10.0        7  \n",
       "8       0.57      9.5        7  \n",
       "9       0.80     10.5        5  "
      ]
     },
     "execution_count": 8,
     "metadata": {},
     "output_type": "execute_result"
    }
   ],
   "source": [
    "wine.head(10)"
   ]
  },
  {
   "cell_type": "code",
   "execution_count": 9,
   "metadata": {},
   "outputs": [
    {
     "name": "stdout",
     "output_type": "stream",
     "text": [
      "       fixed acidity  volatile acidity  citric acid  residual sugar  \\\n",
      "count    6497.000000       6497.000000  6497.000000     6497.000000   \n",
      "mean        7.215307          0.339666     0.318633        5.443235   \n",
      "std         1.296434          0.164636     0.145318        4.757804   \n",
      "min         3.800000          0.080000     0.000000        0.600000   \n",
      "25%         6.400000          0.230000     0.250000        1.800000   \n",
      "50%         7.000000          0.290000     0.310000        3.000000   \n",
      "75%         7.700000          0.400000     0.390000        8.100000   \n",
      "max        15.900000          1.580000     1.660000       65.800000   \n",
      "\n",
      "         chlorides  free sulfur dioxide  total sulfur dioxide      density  \\\n",
      "count  6497.000000          6497.000000           6497.000000  6497.000000   \n",
      "mean      0.056034            30.525319            115.744574     0.994697   \n",
      "std       0.035034            17.749400             56.521855     0.002999   \n",
      "min       0.009000             1.000000              6.000000     0.987110   \n",
      "25%       0.038000            17.000000             77.000000     0.992340   \n",
      "50%       0.047000            29.000000            118.000000     0.994890   \n",
      "75%       0.065000            41.000000            156.000000     0.996990   \n",
      "max       0.611000           289.000000            440.000000     1.038980   \n",
      "\n",
      "                pH    sulphates      alcohol      quality  \n",
      "count  6497.000000  6497.000000  6497.000000  6497.000000  \n",
      "mean      3.218501     0.531268    10.491801     5.818378  \n",
      "std       0.160787     0.148806     1.192712     0.873255  \n",
      "min       2.720000     0.220000     8.000000     3.000000  \n",
      "25%       3.110000     0.430000     9.500000     5.000000  \n",
      "50%       3.210000     0.510000    10.300000     6.000000  \n",
      "75%       3.320000     0.600000    11.300000     6.000000  \n",
      "max       4.010000     2.000000    14.900000     9.000000  \n"
     ]
    }
   ],
   "source": [
    "# print summary statistics\n",
    "print(wine.describe())"
   ]
  },
  {
   "cell_type": "markdown",
   "metadata": {},
   "source": [
    "## Exploration and Visualization of Data"
   ]
  },
  {
   "cell_type": "markdown",
   "metadata": {},
   "source": [
    "### Distribution of target variable : Quality"
   ]
  },
  {
   "cell_type": "code",
   "execution_count": 10,
   "metadata": {},
   "outputs": [
    {
     "data": {
      "image/png": "[encoded data removed]",
      "text/plain": [
       "<Figure size 432x288 with 1 Axes>"
      ]
     },
     "metadata": {
      "needs_background": "light"
     },
     "output_type": "display_data"
    }
   ],
   "source": [
    "red=wine.loc[wine.type=='red', 'quality']\n",
    "white=wine.loc[wine.type=='white', 'quality']\n",
    "\n",
    "figure = dict(alpha=0.5, bins=10)\n",
    "\n",
    "plt.hist(red, **figure, color='r', label='Red Wine')\n",
    "plt.hist(white, **figure, color='b', label='White Wine')\n",
    "plt.gca().set(title='Frequency Histogram of Wine Quality', ylabel='Frequency')\n",
    "plt.xlim(0,10)\n",
    "plt.legend()\n",
    "plt.show()"
   ]
  },
  {
   "cell_type": "markdown",
   "metadata": {},
   "source": [
    "The histogram shows that the quality scores of both red and white wines have a gaussian distribution.\n",
    "\n",
    "- White wine has a higher center of around 6 compared to red with a center of around 5"
   ]
  },
  {
   "cell_type": "code",
   "execution_count": 11,
   "metadata": {},
   "outputs": [
    {
     "data": {
      "image/png": "[encoded data removed]",
      "text/plain": [
       "<Figure size 432x432 with 1 Axes>"
      ]
     },
     "metadata": {
      "needs_background": "light"
     },
     "output_type": "display_data"
    }
   ],
   "source": [
    "fig = plt.figure(figsize=(6, 6))\n",
    "ax = fig.gca() # Define axis \n",
    "wine.loc[:,['quality', 'type']].boxplot(by = 'type', ax = ax)\n",
    "ax.set_title('Box plot of quality')\n",
    "ax.set_ylabel('Quality Score')\n",
    "ax.set_ylim(0.0, 10.0) \n",
    "plt.show()"
   ]
  },
  {
   "cell_type": "markdown",
   "metadata": {},
   "source": [
    "Red and white wines have the same IQR between 5 and 6 as well as similiar outlier observations at 3 and 8. However white, in addition to the outliers at 3 and 8, also has outlier observations at 9."
   ]
  },
  {
   "cell_type": "code",
   "execution_count": 12,
   "metadata": {},
   "outputs": [
    {
     "data": {
      "image/png": "[encoded data removed]",
      "text/plain": [
       "<Figure size 432x432 with 1 Axes>"
      ]
     },
     "metadata": {
      "needs_background": "light"
     },
     "output_type": "display_data"
    }
   ],
   "source": [
    "fig = plt.figure(figsize=(6,6)) # Define plot area\n",
    "ax = fig.gca() # Define axis \n",
    "sns.set_style(\"whitegrid\")\n",
    "sns.violinplot(x = 'type', y = 'quality', data = wine, ax = ax)\n",
    "ax.set_title('Violin plot of quality score by wine type') # Give the plot a main title\n",
    "ax.set_xlabel('Wine type') # Set text for the x axis\n",
    "ax.set_ylabel('Quality Score')# Set text for y axis\n",
    "plt.show()"
   ]
  },
  {
   "cell_type": "markdown",
   "metadata": {},
   "source": [
    "Similiar to the Histogram and box plot, the violin plot tells us that both wines are concentrated between 5 and 7 with white wine having the larger range and a longer upper tail."
   ]
  },
  {
   "cell_type": "markdown",
   "metadata": {},
   "source": [
    "### Covariance and correlation"
   ]
  },
  {
   "cell_type": "code",
   "execution_count": 13,
   "metadata": {},
   "outputs": [
    {
     "data": {
      "text/html": [
       "<div>\n",
       "<style scoped>\n",
       "    .dataframe tbody tr th:only-of-type {\n",
       "        vertical-align: middle;\n",
       "    }\n",
       "\n",
       "    .dataframe tbody tr th {\n",
       "        vertical-align: top;\n",
       "    }\n",
       "\n",
       "    .dataframe thead th {\n",
       "        text-align: right;\n",
       "    }\n",
       "</style>\n",
       "<table border=\"1\" class=\"dataframe\">\n",
       "  <thead>\n",
       "    <tr style=\"text-align: right;\">\n",
       "      <th></th>\n",
       "      <th>fixed acidity</th>\n",
       "      <th>volatile acidity</th>\n",
       "      <th>citric acid</th>\n",
       "      <th>residual sugar</th>\n",
       "      <th>chlorides</th>\n",
       "      <th>free sulfur dioxide</th>\n",
       "      <th>total sulfur dioxide</th>\n",
       "      <th>density</th>\n",
       "      <th>pH</th>\n",
       "      <th>sulphates</th>\n",
       "      <th>alcohol</th>\n",
       "      <th>quality</th>\n",
       "    </tr>\n",
       "  </thead>\n",
       "  <tbody>\n",
       "    <tr>\n",
       "      <th>fixed acidity</th>\n",
       "      <td>1.680740</td>\n",
       "      <td>0.046745</td>\n",
       "      <td>0.061122</td>\n",
       "      <td>-0.690720</td>\n",
       "      <td>0.013544</td>\n",
       "      <td>-6.506003</td>\n",
       "      <td>-24.112030</td>\n",
       "      <td>0.001784</td>\n",
       "      <td>-0.052675</td>\n",
       "      <td>0.057792</td>\n",
       "      <td>-0.147594</td>\n",
       "      <td>-0.086882</td>\n",
       "    </tr>\n",
       "    <tr>\n",
       "      <th>volatile acidity</th>\n",
       "      <td>0.046745</td>\n",
       "      <td>0.027105</td>\n",
       "      <td>-0.009043</td>\n",
       "      <td>-0.153537</td>\n",
       "      <td>0.002175</td>\n",
       "      <td>-1.030242</td>\n",
       "      <td>-3.856933</td>\n",
       "      <td>0.000134</td>\n",
       "      <td>0.006921</td>\n",
       "      <td>0.005536</td>\n",
       "      <td>-0.007391</td>\n",
       "      <td>-0.038200</td>\n",
       "    </tr>\n",
       "    <tr>\n",
       "      <th>citric acid</th>\n",
       "      <td>0.061122</td>\n",
       "      <td>-0.009043</td>\n",
       "      <td>0.021117</td>\n",
       "      <td>0.098490</td>\n",
       "      <td>0.000199</td>\n",
       "      <td>0.343372</td>\n",
       "      <td>1.603646</td>\n",
       "      <td>0.000042</td>\n",
       "      <td>-0.007706</td>\n",
       "      <td>0.001215</td>\n",
       "      <td>-0.001819</td>\n",
       "      <td>0.010854</td>\n",
       "    </tr>\n",
       "    <tr>\n",
       "      <th>residual sugar</th>\n",
       "      <td>-0.690720</td>\n",
       "      <td>-0.153537</td>\n",
       "      <td>0.098490</td>\n",
       "      <td>22.636696</td>\n",
       "      <td>-0.021492</td>\n",
       "      <td>34.021685</td>\n",
       "      <td>133.244854</td>\n",
       "      <td>0.007883</td>\n",
       "      <td>-0.204498</td>\n",
       "      <td>-0.131635</td>\n",
       "      <td>-2.039567</td>\n",
       "      <td>-0.153646</td>\n",
       "    </tr>\n",
       "    <tr>\n",
       "      <th>chlorides</th>\n",
       "      <td>0.013544</td>\n",
       "      <td>0.002175</td>\n",
       "      <td>0.000199</td>\n",
       "      <td>-0.021492</td>\n",
       "      <td>0.001227</td>\n",
       "      <td>-0.121284</td>\n",
       "      <td>-0.553714</td>\n",
       "      <td>0.000038</td>\n",
       "      <td>0.000252</td>\n",
       "      <td>0.002062</td>\n",
       "      <td>-0.010735</td>\n",
       "      <td>-0.006139</td>\n",
       "    </tr>\n",
       "    <tr>\n",
       "      <th>free sulfur dioxide</th>\n",
       "      <td>-6.506003</td>\n",
       "      <td>-1.030242</td>\n",
       "      <td>0.343372</td>\n",
       "      <td>34.021685</td>\n",
       "      <td>-0.121284</td>\n",
       "      <td>315.041192</td>\n",
       "      <td>723.261972</td>\n",
       "      <td>0.001369</td>\n",
       "      <td>-0.416249</td>\n",
       "      <td>-0.497756</td>\n",
       "      <td>-3.807165</td>\n",
       "      <td>0.859664</td>\n",
       "    </tr>\n",
       "    <tr>\n",
       "      <th>total sulfur dioxide</th>\n",
       "      <td>-24.112030</td>\n",
       "      <td>-3.856933</td>\n",
       "      <td>1.603646</td>\n",
       "      <td>133.244854</td>\n",
       "      <td>-0.553714</td>\n",
       "      <td>723.261972</td>\n",
       "      <td>3194.720039</td>\n",
       "      <td>0.005491</td>\n",
       "      <td>-2.166696</td>\n",
       "      <td>-2.319079</td>\n",
       "      <td>-17.914646</td>\n",
       "      <td>-2.042704</td>\n",
       "    </tr>\n",
       "    <tr>\n",
       "      <th>density</th>\n",
       "      <td>0.001784</td>\n",
       "      <td>0.000134</td>\n",
       "      <td>0.000042</td>\n",
       "      <td>0.007883</td>\n",
       "      <td>0.000038</td>\n",
       "      <td>0.001369</td>\n",
       "      <td>0.005491</td>\n",
       "      <td>0.000009</td>\n",
       "      <td>0.000006</td>\n",
       "      <td>0.000116</td>\n",
       "      <td>-0.002456</td>\n",
       "      <td>-0.000801</td>\n",
       "    </tr>\n",
       "    <tr>\n",
       "      <th>pH</th>\n",
       "      <td>-0.052675</td>\n",
       "      <td>0.006921</td>\n",
       "      <td>-0.007706</td>\n",
       "      <td>-0.204498</td>\n",
       "      <td>0.000252</td>\n",
       "      <td>-0.416249</td>\n",
       "      <td>-2.166696</td>\n",
       "      <td>0.000006</td>\n",
       "      <td>0.025853</td>\n",
       "      <td>0.004597</td>\n",
       "      <td>0.023252</td>\n",
       "      <td>0.002739</td>\n",
       "    </tr>\n",
       "    <tr>\n",
       "      <th>sulphates</th>\n",
       "      <td>0.057792</td>\n",
       "      <td>0.005536</td>\n",
       "      <td>0.001215</td>\n",
       "      <td>-0.131635</td>\n",
       "      <td>0.002062</td>\n",
       "      <td>-0.497756</td>\n",
       "      <td>-2.319079</td>\n",
       "      <td>0.000116</td>\n",
       "      <td>0.004597</td>\n",
       "      <td>0.022143</td>\n",
       "      <td>-0.000538</td>\n",
       "      <td>0.005001</td>\n",
       "    </tr>\n",
       "    <tr>\n",
       "      <th>alcohol</th>\n",
       "      <td>-0.147594</td>\n",
       "      <td>-0.007391</td>\n",
       "      <td>-0.001819</td>\n",
       "      <td>-2.039567</td>\n",
       "      <td>-0.010735</td>\n",
       "      <td>-3.807165</td>\n",
       "      <td>-17.914646</td>\n",
       "      <td>-0.002456</td>\n",
       "      <td>0.023252</td>\n",
       "      <td>-0.000538</td>\n",
       "      <td>1.422561</td>\n",
       "      <td>0.462776</td>\n",
       "    </tr>\n",
       "    <tr>\n",
       "      <th>quality</th>\n",
       "      <td>-0.086882</td>\n",
       "      <td>-0.038200</td>\n",
       "      <td>0.010854</td>\n",
       "      <td>-0.153646</td>\n",
       "      <td>-0.006139</td>\n",
       "      <td>0.859664</td>\n",
       "      <td>-2.042704</td>\n",
       "      <td>-0.000801</td>\n",
       "      <td>0.002739</td>\n",
       "      <td>0.005001</td>\n",
       "      <td>0.462776</td>\n",
       "      <td>0.762575</td>\n",
       "    </tr>\n",
       "  </tbody>\n",
       "</table>\n",
       "</div>"
      ],
      "text/plain": [
       "                      fixed acidity  volatile acidity  citric acid  \\\n",
       "fixed acidity              1.680740          0.046745     0.061122   \n",
       "volatile acidity           0.046745          0.027105    -0.009043   \n",
       "citric acid                0.061122         -0.009043     0.021117   \n",
       "residual sugar            -0.690720         -0.153537     0.098490   \n",
       "chlorides                  0.013544          0.002175     0.000199   \n",
       "free sulfur dioxide       -6.506003         -1.030242     0.343372   \n",
       "total sulfur dioxide     -24.112030         -3.856933     1.603646   \n",
       "density                    0.001784          0.000134     0.000042   \n",
       "pH                        -0.052675          0.006921    -0.007706   \n",
       "sulphates                  0.057792          0.005536     0.001215   \n",
       "alcohol                   -0.147594         -0.007391    -0.001819   \n",
       "quality                   -0.086882         -0.038200     0.010854   \n",
       "\n",
       "                      residual sugar  chlorides  free sulfur dioxide  \\\n",
       "fixed acidity              -0.690720   0.013544            -6.506003   \n",
       "volatile acidity           -0.153537   0.002175            -1.030242   \n",
       "citric acid                 0.098490   0.000199             0.343372   \n",
       "residual sugar             22.636696  -0.021492            34.021685   \n",
       "chlorides                  -0.021492   0.001227            -0.121284   \n",
       "free sulfur dioxide        34.021685  -0.121284           315.041192   \n",
       "total sulfur dioxide      133.244854  -0.553714           723.261972   \n",
       "density                     0.007883   0.000038             0.001369   \n",
       "pH                         -0.204498   0.000252            -0.416249   \n",
       "sulphates                  -0.131635   0.002062            -0.497756   \n",
       "alcohol                    -2.039567  -0.010735            -3.807165   \n",
       "quality                    -0.153646  -0.006139             0.859664   \n",
       "\n",
       "                      total sulfur dioxide   density        pH  sulphates  \\\n",
       "fixed acidity                   -24.112030  0.001784 -0.052675   0.057792   \n",
       "volatile acidity                 -3.856933  0.000134  0.006921   0.005536   \n",
       "citric acid                       1.603646  0.000042 -0.007706   0.001215   \n",
       "residual sugar                  133.244854  0.007883 -0.204498  -0.131635   \n",
       "chlorides                        -0.553714  0.000038  0.000252   0.002062   \n",
       "free sulfur dioxide             723.261972  0.001369 -0.416249  -0.497756   \n",
       "total sulfur dioxide           3194.720039  0.005491 -2.166696  -2.319079   \n",
       "density                           0.005491  0.000009  0.000006   0.000116   \n",
       "pH                               -2.166696  0.000006  0.025853   0.004597   \n",
       "sulphates                        -2.319079  0.000116  0.004597   0.022143   \n",
       "alcohol                         -17.914646 -0.002456  0.023252  -0.000538   \n",
       "quality                          -2.042704 -0.000801  0.002739   0.005001   \n",
       "\n",
       "                        alcohol   quality  \n",
       "fixed acidity         -0.147594 -0.086882  \n",
       "volatile acidity      -0.007391 -0.038200  \n",
       "citric acid           -0.001819  0.010854  \n",
       "residual sugar        -2.039567 -0.153646  \n",
       "chlorides             -0.010735 -0.006139  \n",
       "free sulfur dioxide   -3.807165  0.859664  \n",
       "total sulfur dioxide -17.914646 -2.042704  \n",
       "density               -0.002456 -0.000801  \n",
       "pH                     0.023252  0.002739  \n",
       "sulphates             -0.000538  0.005001  \n",
       "alcohol                1.422561  0.462776  \n",
       "quality                0.462776  0.762575  "
      ]
     },
     "execution_count": 13,
     "metadata": {},
     "output_type": "execute_result"
    }
   ],
   "source": [
    "#Pearson correlation for numeric variables\n",
    "wine[['fixed acidity', 'volatile acidity', 'citric acid', 'residual sugar'\n",
    "      , 'chlorides', 'free sulfur dioxide', 'total sulfur dioxide', 'density'\n",
    "      , 'pH', 'sulphates', 'alcohol', 'quality']].cov()"
   ]
  },
  {
   "cell_type": "code",
   "execution_count": 14,
   "metadata": {},
   "outputs": [
    {
     "data": {
      "text/html": [
       "<div>\n",
       "<style scoped>\n",
       "    .dataframe tbody tr th:only-of-type {\n",
       "        vertical-align: middle;\n",
       "    }\n",
       "\n",
       "    .dataframe tbody tr th {\n",
       "        vertical-align: top;\n",
       "    }\n",
       "\n",
       "    .dataframe thead th {\n",
       "        text-align: right;\n",
       "    }\n",
       "</style>\n",
       "<table border=\"1\" class=\"dataframe\">\n",
       "  <thead>\n",
       "    <tr style=\"text-align: right;\">\n",
       "      <th></th>\n",
       "      <th>fixed acidity</th>\n",
       "      <th>volatile acidity</th>\n",
       "      <th>citric acid</th>\n",
       "      <th>residual sugar</th>\n",
       "      <th>chlorides</th>\n",
       "      <th>free sulfur dioxide</th>\n",
       "      <th>total sulfur dioxide</th>\n",
       "      <th>density</th>\n",
       "      <th>pH</th>\n",
       "      <th>sulphates</th>\n",
       "      <th>alcohol</th>\n",
       "      <th>quality</th>\n",
       "    </tr>\n",
       "  </thead>\n",
       "  <tbody>\n",
       "    <tr>\n",
       "      <th>fixed acidity</th>\n",
       "      <td>1.000000</td>\n",
       "      <td>0.219008</td>\n",
       "      <td>0.324436</td>\n",
       "      <td>-0.111981</td>\n",
       "      <td>0.298195</td>\n",
       "      <td>-0.282735</td>\n",
       "      <td>-0.329054</td>\n",
       "      <td>0.458910</td>\n",
       "      <td>-0.252700</td>\n",
       "      <td>0.299568</td>\n",
       "      <td>-0.095452</td>\n",
       "      <td>-0.076743</td>\n",
       "    </tr>\n",
       "    <tr>\n",
       "      <th>volatile acidity</th>\n",
       "      <td>0.219008</td>\n",
       "      <td>1.000000</td>\n",
       "      <td>-0.377981</td>\n",
       "      <td>-0.196011</td>\n",
       "      <td>0.377124</td>\n",
       "      <td>-0.352557</td>\n",
       "      <td>-0.414476</td>\n",
       "      <td>0.271296</td>\n",
       "      <td>0.261454</td>\n",
       "      <td>0.225984</td>\n",
       "      <td>-0.037640</td>\n",
       "      <td>-0.265699</td>\n",
       "    </tr>\n",
       "    <tr>\n",
       "      <th>citric acid</th>\n",
       "      <td>0.324436</td>\n",
       "      <td>-0.377981</td>\n",
       "      <td>1.000000</td>\n",
       "      <td>0.142451</td>\n",
       "      <td>0.038998</td>\n",
       "      <td>0.133126</td>\n",
       "      <td>0.195242</td>\n",
       "      <td>0.096154</td>\n",
       "      <td>-0.329808</td>\n",
       "      <td>0.056197</td>\n",
       "      <td>-0.010493</td>\n",
       "      <td>0.085532</td>\n",
       "    </tr>\n",
       "    <tr>\n",
       "      <th>residual sugar</th>\n",
       "      <td>-0.111981</td>\n",
       "      <td>-0.196011</td>\n",
       "      <td>0.142451</td>\n",
       "      <td>1.000000</td>\n",
       "      <td>-0.128940</td>\n",
       "      <td>0.402871</td>\n",
       "      <td>0.495482</td>\n",
       "      <td>0.552517</td>\n",
       "      <td>-0.267320</td>\n",
       "      <td>-0.185927</td>\n",
       "      <td>-0.359415</td>\n",
       "      <td>-0.036980</td>\n",
       "    </tr>\n",
       "    <tr>\n",
       "      <th>chlorides</th>\n",
       "      <td>0.298195</td>\n",
       "      <td>0.377124</td>\n",
       "      <td>0.038998</td>\n",
       "      <td>-0.128940</td>\n",
       "      <td>1.000000</td>\n",
       "      <td>-0.195045</td>\n",
       "      <td>-0.279630</td>\n",
       "      <td>0.362615</td>\n",
       "      <td>0.044708</td>\n",
       "      <td>0.395593</td>\n",
       "      <td>-0.256916</td>\n",
       "      <td>-0.200666</td>\n",
       "    </tr>\n",
       "    <tr>\n",
       "      <th>free sulfur dioxide</th>\n",
       "      <td>-0.282735</td>\n",
       "      <td>-0.352557</td>\n",
       "      <td>0.133126</td>\n",
       "      <td>0.402871</td>\n",
       "      <td>-0.195045</td>\n",
       "      <td>1.000000</td>\n",
       "      <td>0.720934</td>\n",
       "      <td>0.025717</td>\n",
       "      <td>-0.145854</td>\n",
       "      <td>-0.188457</td>\n",
       "      <td>-0.179838</td>\n",
       "      <td>0.055463</td>\n",
       "    </tr>\n",
       "    <tr>\n",
       "      <th>total sulfur dioxide</th>\n",
       "      <td>-0.329054</td>\n",
       "      <td>-0.414476</td>\n",
       "      <td>0.195242</td>\n",
       "      <td>0.495482</td>\n",
       "      <td>-0.279630</td>\n",
       "      <td>0.720934</td>\n",
       "      <td>1.000000</td>\n",
       "      <td>0.032395</td>\n",
       "      <td>-0.238413</td>\n",
       "      <td>-0.275727</td>\n",
       "      <td>-0.265740</td>\n",
       "      <td>-0.041385</td>\n",
       "    </tr>\n",
       "    <tr>\n",
       "      <th>density</th>\n",
       "      <td>0.458910</td>\n",
       "      <td>0.271296</td>\n",
       "      <td>0.096154</td>\n",
       "      <td>0.552517</td>\n",
       "      <td>0.362615</td>\n",
       "      <td>0.025717</td>\n",
       "      <td>0.032395</td>\n",
       "      <td>1.000000</td>\n",
       "      <td>0.011686</td>\n",
       "      <td>0.259478</td>\n",
       "      <td>-0.686745</td>\n",
       "      <td>-0.305858</td>\n",
       "    </tr>\n",
       "    <tr>\n",
       "      <th>pH</th>\n",
       "      <td>-0.252700</td>\n",
       "      <td>0.261454</td>\n",
       "      <td>-0.329808</td>\n",
       "      <td>-0.267320</td>\n",
       "      <td>0.044708</td>\n",
       "      <td>-0.145854</td>\n",
       "      <td>-0.238413</td>\n",
       "      <td>0.011686</td>\n",
       "      <td>1.000000</td>\n",
       "      <td>0.192123</td>\n",
       "      <td>0.121248</td>\n",
       "      <td>0.019506</td>\n",
       "    </tr>\n",
       "    <tr>\n",
       "      <th>sulphates</th>\n",
       "      <td>0.299568</td>\n",
       "      <td>0.225984</td>\n",
       "      <td>0.056197</td>\n",
       "      <td>-0.185927</td>\n",
       "      <td>0.395593</td>\n",
       "      <td>-0.188457</td>\n",
       "      <td>-0.275727</td>\n",
       "      <td>0.259478</td>\n",
       "      <td>0.192123</td>\n",
       "      <td>1.000000</td>\n",
       "      <td>-0.003029</td>\n",
       "      <td>0.038485</td>\n",
       "    </tr>\n",
       "    <tr>\n",
       "      <th>alcohol</th>\n",
       "      <td>-0.095452</td>\n",
       "      <td>-0.037640</td>\n",
       "      <td>-0.010493</td>\n",
       "      <td>-0.359415</td>\n",
       "      <td>-0.256916</td>\n",
       "      <td>-0.179838</td>\n",
       "      <td>-0.265740</td>\n",
       "      <td>-0.686745</td>\n",
       "      <td>0.121248</td>\n",
       "      <td>-0.003029</td>\n",
       "      <td>1.000000</td>\n",
       "      <td>0.444319</td>\n",
       "    </tr>\n",
       "    <tr>\n",
       "      <th>quality</th>\n",
       "      <td>-0.076743</td>\n",
       "      <td>-0.265699</td>\n",
       "      <td>0.085532</td>\n",
       "      <td>-0.036980</td>\n",
       "      <td>-0.200666</td>\n",
       "      <td>0.055463</td>\n",
       "      <td>-0.041385</td>\n",
       "      <td>-0.305858</td>\n",
       "      <td>0.019506</td>\n",
       "      <td>0.038485</td>\n",
       "      <td>0.444319</td>\n",
       "      <td>1.000000</td>\n",
       "    </tr>\n",
       "  </tbody>\n",
       "</table>\n",
       "</div>"
      ],
      "text/plain": [
       "                      fixed acidity  volatile acidity  citric acid  \\\n",
       "fixed acidity              1.000000          0.219008     0.324436   \n",
       "volatile acidity           0.219008          1.000000    -0.377981   \n",
       "citric acid                0.324436         -0.377981     1.000000   \n",
       "residual sugar            -0.111981         -0.196011     0.142451   \n",
       "chlorides                  0.298195          0.377124     0.038998   \n",
       "free sulfur dioxide       -0.282735         -0.352557     0.133126   \n",
       "total sulfur dioxide      -0.329054         -0.414476     0.195242   \n",
       "density                    0.458910          0.271296     0.096154   \n",
       "pH                        -0.252700          0.261454    -0.329808   \n",
       "sulphates                  0.299568          0.225984     0.056197   \n",
       "alcohol                   -0.095452         -0.037640    -0.010493   \n",
       "quality                   -0.076743         -0.265699     0.085532   \n",
       "\n",
       "                      residual sugar  chlorides  free sulfur dioxide  \\\n",
       "fixed acidity              -0.111981   0.298195            -0.282735   \n",
       "volatile acidity           -0.196011   0.377124            -0.352557   \n",
       "citric acid                 0.142451   0.038998             0.133126   \n",
       "residual sugar              1.000000  -0.128940             0.402871   \n",
       "chlorides                  -0.128940   1.000000            -0.195045   \n",
       "free sulfur dioxide         0.402871  -0.195045             1.000000   \n",
       "total sulfur dioxide        0.495482  -0.279630             0.720934   \n",
       "density                     0.552517   0.362615             0.025717   \n",
       "pH                         -0.267320   0.044708            -0.145854   \n",
       "sulphates                  -0.185927   0.395593            -0.188457   \n",
       "alcohol                    -0.359415  -0.256916            -0.179838   \n",
       "quality                    -0.036980  -0.200666             0.055463   \n",
       "\n",
       "                      total sulfur dioxide   density        pH  sulphates  \\\n",
       "fixed acidity                    -0.329054  0.458910 -0.252700   0.299568   \n",
       "volatile acidity                 -0.414476  0.271296  0.261454   0.225984   \n",
       "citric acid                       0.195242  0.096154 -0.329808   0.056197   \n",
       "residual sugar                    0.495482  0.552517 -0.267320  -0.185927   \n",
       "chlorides                        -0.279630  0.362615  0.044708   0.395593   \n",
       "free sulfur dioxide               0.720934  0.025717 -0.145854  -0.188457   \n",
       "total sulfur dioxide              1.000000  0.032395 -0.238413  -0.275727   \n",
       "density                           0.032395  1.000000  0.011686   0.259478   \n",
       "pH                               -0.238413  0.011686  1.000000   0.192123   \n",
       "sulphates                        -0.275727  0.259478  0.192123   1.000000   \n",
       "alcohol                          -0.265740 -0.686745  0.121248  -0.003029   \n",
       "quality                          -0.041385 -0.305858  0.019506   0.038485   \n",
       "\n",
       "                       alcohol   quality  \n",
       "fixed acidity        -0.095452 -0.076743  \n",
       "volatile acidity     -0.037640 -0.265699  \n",
       "citric acid          -0.010493  0.085532  \n",
       "residual sugar       -0.359415 -0.036980  \n",
       "chlorides            -0.256916 -0.200666  \n",
       "free sulfur dioxide  -0.179838  0.055463  \n",
       "total sulfur dioxide -0.265740 -0.041385  \n",
       "density              -0.686745 -0.305858  \n",
       "pH                    0.121248  0.019506  \n",
       "sulphates            -0.003029  0.038485  \n",
       "alcohol               1.000000  0.444319  \n",
       "quality               0.444319  1.000000  "
      ]
     },
     "execution_count": 14,
     "metadata": {},
     "output_type": "execute_result"
    }
   ],
   "source": [
    "# correlation matrix\n",
    "wine_corr=wine[['fixed acidity', 'volatile acidity', 'citric acid', 'residual sugar'\n",
    "      , 'chlorides', 'free sulfur dioxide', 'total sulfur dioxide', 'density'\n",
    "      , 'pH', 'sulphates', 'alcohol', 'quality']].corr()\n",
    "wine_corr"
   ]
  },
  {
   "cell_type": "code",
   "execution_count": 15,
   "metadata": {},
   "outputs": [
    {
     "data": {
      "image/png": "[encoded data removed]",
      "text/plain": [
       "<Figure size 432x288 with 2 Axes>"
      ]
     },
     "metadata": {},
     "output_type": "display_data"
    }
   ],
   "source": [
    "# correlation plot\n",
    "sns.heatmap(wine_corr, vmax=1.0, center=0,\n",
    "            square=True, linewidths=.25, cbar_kws={\"shrink\": 0.5})\n",
    "plt.title('Correlation matrix for numeric features')\n",
    "plt.yticks(rotation='horizontal')\n",
    "plt.xticks(rotation='vertical')\n",
    "plt.show()"
   ]
  },
  {
   "cell_type": "markdown",
   "metadata": {},
   "source": [
    "From the correlation matrix and plot, it appears that quality is more correlated (corr>0.2) with the following variables (by desc order):\n",
    "\n",
    "- alcohol\n",
    "- density\n",
    "- volatile acidity\n",
    "- chlorides"
   ]
  },
  {
   "cell_type": "markdown",
   "metadata": {},
   "source": [
    "#### Alcohol"
   ]
  },
  {
   "cell_type": "code",
   "execution_count": 16,
   "metadata": {},
   "outputs": [
    {
     "data": {
      "image/png": "[encoded data removed]",
      "text/plain": [
       "<Figure size 720x360 with 2 Axes>"
      ]
     },
     "metadata": {},
     "output_type": "display_data"
    }
   ],
   "source": [
    "g = sns.FacetGrid(wine, \n",
    "                  col=\"type\", \n",
    "                  margin_titles=True,\n",
    "                 height=5,\n",
    "                 aspect=1)\n",
    "g = g.map(plt.scatter, \"alcohol\", \"quality\", alpha=0.5, color=\".3\") "
   ]
  },
  {
   "cell_type": "markdown",
   "metadata": {},
   "source": [
    "The alcohol scale of white wine appears to be a tad more spread out for most frequenct quality ratings (rating between 5-7). However in general for both wines, the alcohol scale has a wide range (between 9 to 13) for the most common 5-7 ratings.\n",
    "\n",
    "For more outlier quality ratings, it appears that the lower end of quality correspond with lower alcohol content and the higher end of quality correspond with higher alcohol content."
   ]
  },
  {
   "cell_type": "code",
   "execution_count": 17,
   "metadata": {},
   "outputs": [
    {
     "data": {
      "text/plain": [
       "<seaborn.axisgrid.FacetGrid at 0x20d075c4bc8>"
      ]
     },
     "execution_count": 17,
     "metadata": {},
     "output_type": "execute_result"
    },
    {
     "data": {
      "image/png": "[encoded data removed]",
      "text/plain": [
       "<Figure size 576x288 with 2 Axes>"
      ]
     },
     "metadata": {},
     "output_type": "display_data"
    }
   ],
   "source": [
    "def hexbin(x, y, color, **kwargs):\n",
    "    cmap = sns.light_palette(color, as_cmap=True)\n",
    "    plt.hexbin(x, y, gridsize=15, cmap=cmap, **kwargs)\n",
    "\n",
    "with sns.axes_style(\"dark\"):\n",
    "    g = sns.FacetGrid(wine, hue=\"type\", col=\"type\", height=4)\n",
    "g.map(hexbin, \"alcohol\", \"quality\", extent=[0, 20, 0, 10])"
   ]
  },
  {
   "cell_type": "markdown",
   "metadata": {},
   "source": [
    "For both types of wine, the most common observation is alcohol content of 10 with quality of around 5."
   ]
  },
  {
   "cell_type": "markdown",
   "metadata": {},
   "source": [
    "#### Density"
   ]
  },
  {
   "cell_type": "code",
   "execution_count": 18,
   "metadata": {},
   "outputs": [
    {
     "data": {
      "image/png": "[encoded data removed]",
      "text/plain": [
       "<Figure size 720x360 with 2 Axes>"
      ]
     },
     "metadata": {},
     "output_type": "display_data"
    }
   ],
   "source": [
    "g = sns.FacetGrid(wine, \n",
    "                  col=\"type\", \n",
    "                  margin_titles=True,\n",
    "                 height=5,\n",
    "                 aspect=1)\n",
    "g = g.map(plt.scatter, \"density\", \"quality\", alpha=0.5, color=\".3\") "
   ]
  },
  {
   "cell_type": "markdown",
   "metadata": {},
   "source": [
    "For red wine, density appears to have a slight negative relationship with quality. Lower density red wine tend to have higher quality rating.\n",
    "\n",
    "For white wine, there is no clear relationship between density and quality."
   ]
  },
  {
   "cell_type": "code",
   "execution_count": 19,
   "metadata": {},
   "outputs": [
    {
     "data": {
      "text/plain": [
       "<seaborn.axisgrid.FacetGrid at 0x20d08648fc8>"
      ]
     },
     "execution_count": 19,
     "metadata": {},
     "output_type": "execute_result"
    },
    {
     "data": {
      "image/png": "[encoded data removed]",
      "text/plain": [
       "<Figure size 576x288 with 2 Axes>"
      ]
     },
     "metadata": {},
     "output_type": "display_data"
    }
   ],
   "source": [
    "with sns.axes_style(\"dark\"):\n",
    "    g = sns.FacetGrid(wine, hue=\"type\", col=\"type\", height=4)\n",
    "g.map(hexbin, \"density\", \"quality\", extent=[0.9, 1.1, 0, 10])"
   ]
  },
  {
   "cell_type": "markdown",
   "metadata": {},
   "source": [
    "For the same density, it appears that white wines have higher quality ratings."
   ]
  },
  {
   "cell_type": "markdown",
   "metadata": {},
   "source": [
    "#### Volatile acidity"
   ]
  },
  {
   "cell_type": "code",
   "execution_count": 20,
   "metadata": {},
   "outputs": [
    {
     "data": {
      "image/png": "[encoded data removed]",
      "text/plain": [
       "<Figure size 720x360 with 2 Axes>"
      ]
     },
     "metadata": {},
     "output_type": "display_data"
    }
   ],
   "source": [
    "g = sns.FacetGrid(wine, \n",
    "                  col=\"type\", \n",
    "                  margin_titles=True,\n",
    "                 height=5,\n",
    "                 aspect=1)\n",
    "g = g.map(plt.scatter, \"volatile acidity\", \"quality\", alpha=0.5, color=\".3\") "
   ]
  },
  {
   "cell_type": "markdown",
   "metadata": {},
   "source": [
    "For red wine, volatile acidity appears to have a slight negative relationship with quality. Red wine with lower volatile acidity tend to have higher quality rating.\n",
    "\n",
    "For white wine, there is no clear relationship between volatile acidity and quality. Althought most of the observations tend of have much lower volatile acidity of between 0.1 and 0.7 (red ranges between 0.2 and 1)."
   ]
  },
  {
   "cell_type": "code",
   "execution_count": 21,
   "metadata": {},
   "outputs": [
    {
     "data": {
      "text/plain": [
       "<seaborn.axisgrid.FacetGrid at 0x20d08a37348>"
      ]
     },
     "execution_count": 21,
     "metadata": {},
     "output_type": "execute_result"
    },
    {
     "data": {
      "image/png": "[encoded data removed]",
      "text/plain": [
       "<Figure size 576x288 with 2 Axes>"
      ]
     },
     "metadata": {},
     "output_type": "display_data"
    }
   ],
   "source": [
    "with sns.axes_style(\"dark\"):\n",
    "    g = sns.FacetGrid(wine, hue=\"type\", col=\"type\", height=4)\n",
    "g.map(hexbin, \"volatile acidity\", \"quality\", extent=[0, 2, 0, 10])"
   ]
  },
  {
   "cell_type": "markdown",
   "metadata": {},
   "source": [
    "Red wine appears to have more spread out volatile acidity compared to white."
   ]
  },
  {
   "cell_type": "markdown",
   "metadata": {},
   "source": [
    "#### Chlorides"
   ]
  },
  {
   "cell_type": "code",
   "execution_count": 22,
   "metadata": {},
   "outputs": [
    {
     "data": {
      "image/png": "[encoded data removed]",
      "text/plain": [
       "<Figure size 720x360 with 2 Axes>"
      ]
     },
     "metadata": {},
     "output_type": "display_data"
    }
   ],
   "source": [
    "g = sns.FacetGrid(wine, \n",
    "                  col=\"type\", \n",
    "                  margin_titles=True,\n",
    "                 height=5,\n",
    "                 aspect=1)\n",
    "g = g.map(plt.scatter, \"chlorides\", \"quality\", alpha=0.5, color=\".3\") "
   ]
  },
  {
   "cell_type": "markdown",
   "metadata": {},
   "source": [
    "For both wines there is no clear relationship between chlorides and quality. Althought most of the observations tend of have much lower chloride of between 0.05 and 0.2."
   ]
  },
  {
   "cell_type": "code",
   "execution_count": 23,
   "metadata": {},
   "outputs": [
    {
     "data": {
      "text/plain": [
       "<seaborn.axisgrid.FacetGrid at 0x20d08681388>"
      ]
     },
     "execution_count": 23,
     "metadata": {},
     "output_type": "execute_result"
    },
    {
     "data": {
      "image/png": "[encoded data removed]",
      "text/plain": [
       "<Figure size 576x288 with 2 Axes>"
      ]
     },
     "metadata": {},
     "output_type": "display_data"
    }
   ],
   "source": [
    "with sns.axes_style(\"dark\"):\n",
    "    g = sns.FacetGrid(wine, hue=\"type\", col=\"type\", height=4)\n",
    "g.map(hexbin, \"chlorides\", \"quality\", extent=[0, 2, 0, 10])"
   ]
  },
  {
   "cell_type": "markdown",
   "metadata": {},
   "source": [
    "For the same chloride level, white wine tend to be rated higher."
   ]
  },
  {
   "cell_type": "markdown",
   "metadata": {},
   "source": [
    "## EDA Summary"
   ]
  },
  {
   "cell_type": "markdown",
   "metadata": {},
   "source": [
    "### Key Observations:\n",
    "- From the summary statistics, white wines are rated on average about 0.2 points higher than red wines, but also have a higher standard deviation of 0.89 compared to red wine's std of 0.81\n",
    "- From the box plot of quality, red and white wines have the same IQR between 5 and 6 as well as similiar outlier observations at 3 and 8. However white, in addition to the outliers at 3 and 8, also has outlier observations at 9. The violin plot gives us the same conclusion.\n",
    "- From the correlation matrix and plot, it appears that quality is more correlated (corr>0.2) with the following variables (by desc order):\n",
    "    - alcohol\n",
    "    - density\n",
    "    - volatile acidity\n",
    "    - chlorides\n",
    "- Alcohol: For both wines, it appears that the lower alcohol content corresponds with lower quality rating and higher alcohol content corresponds with higher quality rating\n",
    "- Density: For red wine, density appears to have a slight negative relationship with quality. Lower density red wine tend to have higher quality rating. For white wine, there is no clear relationship between density and quality.\n",
    "- Volatile Acidity:For red wine, volatile acidity appears to have a slight negative relationship with quality. Red wine with lower volatile acidity tend to have higher quality rating.For white wine, there is no clear relationship between volatile acidity and quality.\n",
    "- Chlorides: For both wines there is no clear relationship between chlorides and quality. Althought most of the observations tend of have much lower chloride of between 0.05 and 0.2."
   ]
  },
  {
   "cell_type": "markdown",
   "metadata": {},
   "source": [
    "# Milestone 2 - Feature Significance"
   ]
  },
  {
   "cell_type": "markdown",
   "metadata": {},
   "source": [
    "From milestone 1, we found that quality of wine is more correlated (corr>0.2) with the following features: alcohol, density, volatile acidity, and chlorides. Continuing down that path with this milestone, I'll perform the following to understand if the difference between red and white wine is significant for the top 2 features (alcohol and density):\n",
    "\n",
    "- Identify a likely distribution for those features\n",
    "- Compute basic summary statistics by classical, bootstrap, and Bayesian methods\n",
    "- Compute CI by classical, bootstrap, and Bayesian\n",
    "- Perform hypothesis Test to determine if the differences in alcohol and density between red and white wines are significant"
   ]
  },
  {
   "cell_type": "markdown",
   "metadata": {},
   "source": [
    "### Distribution of target variable: Quality"
   ]
  },
  {
   "cell_type": "code",
   "execution_count": 24,
   "metadata": {},
   "outputs": [
    {
     "data": {
      "text/plain": [
       "<function matplotlib.pyplot.show(*args, **kw)>"
      ]
     },
     "execution_count": 24,
     "metadata": {},
     "output_type": "execute_result"
    },
    {
     "data": {
      "image/png": "[encoded data removed]",
      "text/plain": [
       "<Figure size 720x432 with 1 Axes>"
      ]
     },
     "metadata": {},
     "output_type": "display_data"
    }
   ],
   "source": [
    "fig = plt.figure(figsize=(10, 6)) # Define plot area\n",
    "ax = fig.gca() # Define axis \n",
    "wine.loc[:,'quality'].plot.hist(bins=10)\n",
    "ax.set_title('Histogram of quality') # Give the plot a main title\n",
    "ax.set_ylabel('Count')# Set text for y axis\n",
    "ax.set_xlim(0.0, 10.0) # Set the limits of the y axis\n",
    "plt.show"
   ]
  },
  {
   "cell_type": "markdown",
   "metadata": {},
   "source": [
    "Quality appears to be have a gaussian distribution centered around 6."
   ]
  },
  {
   "cell_type": "markdown",
   "metadata": {},
   "source": [
    "### Distribution of Alcohol"
   ]
  },
  {
   "cell_type": "code",
   "execution_count": 25,
   "metadata": {},
   "outputs": [
    {
     "data": {
      "text/plain": [
       "<function matplotlib.pyplot.show(*args, **kw)>"
      ]
     },
     "execution_count": 25,
     "metadata": {},
     "output_type": "execute_result"
    },
    {
     "data": {
      "image/png": "[encoded data removed]",
      "text/plain": [
       "<Figure size 720x432 with 1 Axes>"
      ]
     },
     "metadata": {},
     "output_type": "display_data"
    }
   ],
   "source": [
    "fig = plt.figure(figsize=(10, 6)) # Define plot area\n",
    "ax = fig.gca() # Define axis \n",
    "wine.loc[:,'alcohol'].plot.hist(bins=30)\n",
    "ax.set_title('Histogram of alcohol') # Give the plot a main title\n",
    "ax.set_ylabel('Count')# Set text for y axis\n",
    "ax.set_xlim(7, 15.0) # Set the limits of the y axis\n",
    "plt.show"
   ]
  },
  {
   "cell_type": "markdown",
   "metadata": {},
   "source": [
    "Test if alcohol has a log distribution"
   ]
  },
  {
   "cell_type": "code",
   "execution_count": 26,
   "metadata": {},
   "outputs": [
    {
     "data": {
      "text/plain": [
       "<function matplotlib.pyplot.show(*args, **kw)>"
      ]
     },
     "execution_count": 26,
     "metadata": {},
     "output_type": "execute_result"
    },
    {
     "data": {
      "image/png": "[encoded data removed]",
      "text/plain": [
       "<Figure size 720x432 with 1 Axes>"
      ]
     },
     "metadata": {},
     "output_type": "display_data"
    }
   ],
   "source": [
    "# Add column for log alcohol\n",
    "wine['log_alcohol']=np.log(wine['alcohol'])\n",
    "\n",
    "fig = plt.figure(figsize=(10, 6)) # Define plot area\n",
    "ax = fig.gca() # Define axis \n",
    "wine.loc[:,'log_alcohol'].plot.hist(bins=30)\n",
    "ax.set_title('Histogram of log transformed alcohol') # Give the plot a main title\n",
    "ax.set_ylabel('Count')# Set text for y axis\n",
    "plt.show"
   ]
  },
  {
   "cell_type": "code",
   "execution_count": 27,
   "metadata": {},
   "outputs": [
    {
     "data": {
      "image/png": "[encoded data removed]",
      "text/plain": [
       "<Figure size 432x432 with 2 Axes>"
      ]
     },
     "metadata": {},
     "output_type": "display_data"
    }
   ],
   "source": [
    "# Q-Q plots of alcohol and log alcohol\n",
    "def qq_plot(vec1, vec2):\n",
    "    plt.figure(figsize=(6, 6)).gca() # define axis\n",
    "    ax1 = plt.subplot(221) ## setup the left subplot\n",
    "    ss.probplot(vec1, plot = ax1) ## Plot the left subplot\n",
    "    ax1 = plt.subplot(222) ## Set up the right subplot\n",
    "    ss.probplot(vec2, plot = ax1) ## Plot the right subplot\n",
    "qq_plot(wine['alcohol'], wine['log_alcohol'])  "
   ]
  },
  {
   "cell_type": "markdown",
   "metadata": {},
   "source": [
    "The Q_Q plot shows the quantiles of a standard normal distribution on the horizontal axis and the quantiles of the alcohol (or log alcohol for the second plot) on the vertical axis. If the sample is normal the data points will fall in a straight line.\n",
    "\n",
    "In this case, it appears that both are similiarly distributed (both right skewed). Since log transforming alcohol did not improve the distribution much, I'll be using alcohol for the next steps."
   ]
  },
  {
   "cell_type": "markdown",
   "metadata": {},
   "source": [
    "### Distribution of Density"
   ]
  },
  {
   "cell_type": "code",
   "execution_count": 28,
   "metadata": {},
   "outputs": [
    {
     "data": {
      "text/plain": [
       "<function matplotlib.pyplot.show(*args, **kw)>"
      ]
     },
     "execution_count": 28,
     "metadata": {},
     "output_type": "execute_result"
    },
    {
     "data": {
      "image/png": "[encoded data removed]",
      "text/plain": [
       "<Figure size 720x432 with 1 Axes>"
      ]
     },
     "metadata": {},
     "output_type": "display_data"
    }
   ],
   "source": [
    "fig = plt.figure(figsize=(10, 6)) # Define plot area\n",
    "ax = fig.gca() # Define axis \n",
    "wine.loc[:,'density'].plot.hist(bins=30)\n",
    "ax.set_title('Histogram of density') # Give the plot a main title\n",
    "ax.set_ylabel('Count')# Set text for y axis\n",
    "plt.show"
   ]
  },
  {
   "cell_type": "code",
   "execution_count": 29,
   "metadata": {},
   "outputs": [
    {
     "data": {
      "image/png": "[encoded data removed]",
      "text/plain": [
       "<Figure size 432x432 with 2 Axes>"
      ]
     },
     "metadata": {},
     "output_type": "display_data"
    }
   ],
   "source": [
    "qq_plot(wine['density'], wine['density']) "
   ]
  },
  {
   "cell_type": "markdown",
   "metadata": {},
   "source": [
    "Density appears to have a normal distribution, except for 2 outlier observations. I'll be using density as it is for the next steps."
   ]
  },
  {
   "cell_type": "markdown",
   "metadata": {},
   "source": [
    "## Basic Summary Statistics"
   ]
  },
  {
   "cell_type": "markdown",
   "metadata": {},
   "source": [
    "### Alcohol  - using classical method"
   ]
  },
  {
   "cell_type": "code",
   "execution_count": 30,
   "metadata": {},
   "outputs": [],
   "source": [
    "alc_means = np.array([\n",
    "        np.random.choice(wine['alcohol'], size=50, replace=True).mean()\n",
    "        for i in range(500)])"
   ]
  },
  {
   "cell_type": "code",
   "execution_count": 31,
   "metadata": {},
   "outputs": [
    {
     "data": {
      "image/png": "[encoded data removed]",
      "text/plain": [
       "<Figure size 432x288 with 1 Axes>"
      ]
     },
     "metadata": {},
     "output_type": "display_data"
    },
    {
     "data": {
      "image/png": "[encoded data removed]",
      "text/plain": [
       "<Figure size 432x288 with 1 Axes>"
      ]
     },
     "metadata": {},
     "output_type": "display_data"
    }
   ],
   "source": [
    "breaks = np.linspace(alc_means.min(), alc_means.max(), num=40)\n",
    "plt.hist(alc_means, bins=breaks)\n",
    "plt.show()\n",
    "sma.qqplot(alc_means, line='s')\n",
    "plt.show()"
   ]
  },
  {
   "cell_type": "code",
   "execution_count": 32,
   "metadata": {},
   "outputs": [
    {
     "name": "stdout",
     "output_type": "stream",
     "text": [
      "Alcohol estimated mean (10.491) vs actual mean (10.492)\n",
      "Alcohol estimated s.d. (0.177) vs actual s.d./sqrt(size) (0.169)\n"
     ]
    }
   ],
   "source": [
    "size = 50\n",
    "alc_pop_mean = alc_means.mean()\n",
    "alc_pop_std = alc_means.std()\n",
    "print('Alcohol estimated mean (%.3f) vs actual mean (%.3f)' % (alc_pop_mean, wine['alcohol'].mean()))\n",
    "print('Alcohol estimated s.d. (%.3f) vs actual s.d./sqrt(size) (%.3f)' % (alc_pop_std, wine['alcohol'].std()/np.sqrt(size)))"
   ]
  },
  {
   "cell_type": "markdown",
   "metadata": {},
   "source": [
    "### Alcohol - using bootstrap method"
   ]
  },
  {
   "cell_type": "code",
   "execution_count": 33,
   "metadata": {},
   "outputs": [
    {
     "name": "stdout",
     "output_type": "stream",
     "text": [
      "count    1000.000000\n",
      "mean       10.491349\n",
      "std         0.015307\n",
      "min        10.440330\n",
      "25%        10.481560\n",
      "50%        10.491399\n",
      "75%        10.501607\n",
      "max        10.535889\n",
      "dtype: float64\n"
     ]
    }
   ],
   "source": [
    "n=1000\n",
    "\n",
    "alcohol_bootstrap_means=pd.Series([wine.sample(frac=1, replace=True).alcohol.mean()\n",
    "                                for i in range(n)])\n",
    "print(alcohol_bootstrap_means.describe())"
   ]
  },
  {
   "cell_type": "markdown",
   "metadata": {},
   "source": [
    "### Alcohol - using Bayesian"
   ]
  },
  {
   "cell_type": "code",
   "execution_count": 34,
   "metadata": {},
   "outputs": [],
   "source": [
    "def posterior(prior, like):\n",
    "    post = prior * like # compute the product of the probabilities\n",
    "    return post / sum(post) # normalize the distribution to sum to unity"
   ]
  },
  {
   "cell_type": "code",
   "execution_count": 35,
   "metadata": {},
   "outputs": [
    {
     "name": "stdout",
     "output_type": "stream",
     "text": [
      "Mean of alcohol: 10.47\n"
     ]
    }
   ],
   "source": [
    "num_samples=25\n",
    "sample = wine.sample(n=num_samples)\n",
    "mean_alcohol = sample['alcohol'].mean()\n",
    "print('Mean of alcohol: %.2f' % mean_alcohol)"
   ]
  },
  {
   "cell_type": "code",
   "execution_count": 36,
   "metadata": {},
   "outputs": [
    {
     "name": "stdout",
     "output_type": "stream",
     "text": [
      "Mean = 10.468, Standard deviation = 1.111\n"
     ]
    },
    {
     "data": {
      "image/png": "[encoded data removed]",
      "text/plain": [
       "<Figure size 432x288 with 1 Axes>"
      ]
     },
     "metadata": {},
     "output_type": "display_data"
    }
   ],
   "source": [
    "N = 1000\n",
    "p_alcohol = np.linspace(7, 15, num=N)\n",
    "\n",
    "\n",
    "pp_alcohol = ss.norm.pdf(p_alcohol, loc=sample['alcohol'].mean())\n",
    "pp_alcohol = pp_alcohol / pp_alcohol.sum()\n",
    "\n",
    "def comp_like(p, x): \n",
    "    variance = np.std(x)**2 # sigmasqr\n",
    "    x_mean = np.asarray(x).mean()  # xbar\n",
    "    print('Mean = %.3f, Standard deviation = %.3f' % (x_mean, np.std(x)))\n",
    "    n = len(x)\n",
    "    l = np.exp(-n * np.square(x_mean - p) / (2 * variance))\n",
    "    return l / l.sum()\n",
    "\n",
    "like_alcohol = comp_like(p_alcohol, sample['alcohol'])\n",
    "post_alcohol = posterior(pp_alcohol, like_alcohol)\n",
    "\n",
    "plt.plot(p_alcohol, pp_alcohol, label='prior')\n",
    "plt.plot(p_alcohol, like_alcohol, label='likelihood', alpha=.3, linewidth=10)\n",
    "plt.plot(p_alcohol, post_alcohol, label='posterior')\n",
    "plt.legend()\n",
    "plt.show()"
   ]
  },
  {
   "cell_type": "markdown",
   "metadata": {},
   "source": [
    "#### Alcohol Summary Statistics:\n",
    "- Classical: mean of 10.48 with std of 0.163\n",
    "- Bootstrap: mean of 10.49 with std of 0.014\n",
    "- Bayesian: mean of 10.228 with std of 1.119"
   ]
  },
  {
   "cell_type": "markdown",
   "metadata": {},
   "source": [
    "### Density - using classical method"
   ]
  },
  {
   "cell_type": "code",
   "execution_count": 37,
   "metadata": {},
   "outputs": [],
   "source": [
    "den_means = np.array([\n",
    "        np.random.choice(wine['density'], size=50, replace=True).mean()\n",
    "        for i in range(500)])"
   ]
  },
  {
   "cell_type": "code",
   "execution_count": 38,
   "metadata": {},
   "outputs": [
    {
     "data": {
      "image/png": "[encoded data removed]",
      "text/plain": [
       "<Figure size 432x288 with 1 Axes>"
      ]
     },
     "metadata": {},
     "output_type": "display_data"
    },
    {
     "data": {
      "image/png": "[encoded data removed]",
      "text/plain": [
       "<Figure size 432x288 with 1 Axes>"
      ]
     },
     "metadata": {},
     "output_type": "display_data"
    }
   ],
   "source": [
    "breaks = np.linspace(den_means.min(), den_means.max(), num=40)\n",
    "plt.hist(den_means, bins=breaks)\n",
    "plt.show()\n",
    "sma.qqplot(den_means, line='s')\n",
    "plt.show()"
   ]
  },
  {
   "cell_type": "code",
   "execution_count": 39,
   "metadata": {},
   "outputs": [
    {
     "name": "stdout",
     "output_type": "stream",
     "text": [
      "Density estimated mean (0.9947) vs actual mean (0.9947)\n",
      "Density estimated s.d. (0.000428) vs actual s.d./sqrt(size) (0.000424)\n"
     ]
    }
   ],
   "source": [
    "size = 50\n",
    "den_pop_mean = den_means.mean()\n",
    "den_pop_std = den_means.std()\n",
    "print('Density estimated mean (%.4f) vs actual mean (%.4f)' % (den_pop_mean, wine['density'].mean()))\n",
    "print('Density estimated s.d. (%.6f) vs actual s.d./sqrt(size) (%.6f)' % (den_pop_std, wine['density'].std()/np.sqrt(size)))"
   ]
  },
  {
   "cell_type": "markdown",
   "metadata": {},
   "source": [
    "### Density - using bootstrap method"
   ]
  },
  {
   "cell_type": "code",
   "execution_count": 40,
   "metadata": {},
   "outputs": [
    {
     "name": "stdout",
     "output_type": "stream",
     "text": [
      "count    1000.000000\n",
      "mean        0.994697\n",
      "std         0.000038\n",
      "min         0.994569\n",
      "25%         0.994671\n",
      "50%         0.994697\n",
      "75%         0.994723\n",
      "max         0.994815\n",
      "dtype: float64\n"
     ]
    }
   ],
   "source": [
    "n=1000\n",
    "\n",
    "density_bootstrap_means=pd.Series([wine.sample(frac=1, replace=True).density.mean()\n",
    "                                for i in range(n)])\n",
    "print(density_bootstrap_means.describe())"
   ]
  },
  {
   "cell_type": "markdown",
   "metadata": {},
   "source": [
    "### Density - using Bayesian"
   ]
  },
  {
   "cell_type": "code",
   "execution_count": 41,
   "metadata": {},
   "outputs": [
    {
     "name": "stdout",
     "output_type": "stream",
     "text": [
      "Mean of density: 0.99\n"
     ]
    }
   ],
   "source": [
    "mean_density = sample['density'].mean()\n",
    "print('Mean of density: %.2f' % mean_density)"
   ]
  },
  {
   "cell_type": "code",
   "execution_count": 42,
   "metadata": {},
   "outputs": [
    {
     "name": "stdout",
     "output_type": "stream",
     "text": [
      "Mean = 0.995, Standard deviation = 0.003\n"
     ]
    },
    {
     "data": {
      "image/png": "[encoded data removed]",
      "text/plain": [
       "<Figure size 432x288 with 1 Axes>"
      ]
     },
     "metadata": {},
     "output_type": "display_data"
    }
   ],
   "source": [
    "N = 1000\n",
    "p_density = np.linspace(0.98, 1.04, num=N)\n",
    "\n",
    "\n",
    "pp_density = ss.norm.pdf(p_density, loc=sample['density'].mean())\n",
    "pp_density = pp_density / pp_density.sum()\n",
    "\n",
    "like_density = comp_like(p_density, sample['density'])\n",
    "post_density = posterior(pp_density, like_density)\n",
    "\n",
    "plt.plot(p_density, pp_density, label='prior')\n",
    "plt.plot(p_density, like_density, label='likelihood', alpha=.3, linewidth=10)\n",
    "plt.plot(p_density, post_density, label='posterior')\n",
    "plt.legend()\n",
    "plt.show()"
   ]
  },
  {
   "cell_type": "markdown",
   "metadata": {},
   "source": [
    "#### Density Summary Statistics:\n",
    "- Classical: mean of 0.9947 with std of 0.000426\n",
    "- Bootstrap: mean of 0.9947 with std of 0.000037\n",
    "- Bayesian: mean of 0.995 with std of 0.003"
   ]
  },
  {
   "cell_type": "markdown",
   "metadata": {},
   "source": [
    "### Alcohol Confidence Interval - using classical method"
   ]
  },
  {
   "cell_type": "code",
   "execution_count": 43,
   "metadata": {},
   "outputs": [
    {
     "name": "stdout",
     "output_type": "stream",
     "text": [
      "The half width is 0.35\n",
      "The actual alcohol mean is 10.49\n",
      "The 0.95 level CI for alcohol is (10.14 , 10.84)\n"
     ]
    }
   ],
   "source": [
    "alpha = 0.95\n",
    "half_width = ss.norm.ppf((1 + alpha)/2, loc=alc_pop_mean, scale=alc_pop_std) - alc_pop_mean\n",
    "print('The half width is %.2f' % half_width)\n",
    "\n",
    "alc_ci_low = alc_pop_mean - half_width\n",
    "alc_ci_high = alc_pop_mean + half_width\n",
    "\n",
    "print('The actual alcohol mean is %.2f' % wine['alcohol'].mean())\n",
    "print('The %.2f level CI for alcohol is (%.2f , %.2f)' % (alpha, alc_ci_low, alc_ci_high))"
   ]
  },
  {
   "cell_type": "markdown",
   "metadata": {},
   "source": [
    "### Alcohol Confidence Interval - using bootstrap method"
   ]
  },
  {
   "cell_type": "code",
   "execution_count": 44,
   "metadata": {},
   "outputs": [],
   "source": [
    "def confidence_interval (a, p=5):\n",
    "    #95% confidence interval\n",
    "    lower_CI=np.percentile(a, p/2.)\n",
    "    higher_CI=np.percentile(a, 100-p/2.)\n",
    "    print('95% bootstrapped confidence interval is ' + str(lower_CI) + \" to \"+ str(higher_CI))"
   ]
  },
  {
   "cell_type": "code",
   "execution_count": 45,
   "metadata": {},
   "outputs": [
    {
     "name": "stdout",
     "output_type": "stream",
     "text": [
      "95% bootstrapped confidence interval is 10.45897553999286 to 10.520734595454321\n"
     ]
    }
   ],
   "source": [
    "confidence_interval(alcohol_bootstrap_means)"
   ]
  },
  {
   "cell_type": "markdown",
   "metadata": {},
   "source": [
    "### Alcohol Confidence Interval - using bayesian"
   ]
  },
  {
   "cell_type": "code",
   "execution_count": 46,
   "metadata": {},
   "outputs": [],
   "source": [
    "def confidence_interval_bayes (p, post, num_samples, lower_q, upper_q):\n",
    "    samples = np.random.choice(p, size=num_samples, replace=True, p=post)\n",
    "    ci = np.percentile(samples, [lower_q*100, upper_q*100]) # compute the quantiles\n",
    "    interval = upper_q-lower_q\n",
    "    print('The %.3f bayes credible interval is %.4f to %.4f' \n",
    "          % (interval, ci[0], ci[1]))"
   ]
  },
  {
   "cell_type": "code",
   "execution_count": 47,
   "metadata": {},
   "outputs": [
    {
     "name": "stdout",
     "output_type": "stream",
     "text": [
      "The 0.950 bayes credible interval is 10.0430 to 10.8919\n"
     ]
    }
   ],
   "source": [
    "confidence_interval_bayes(p_alcohol, post_alcohol, num_samples=100000, lower_q=0.025, upper_q=0.975)"
   ]
  },
  {
   "cell_type": "markdown",
   "metadata": {},
   "source": [
    "### Alcohol Confidence Interval Summary:\n",
    "- Classical: The 0.95 level CI for alcohol is (10.17 , 10.82)\n",
    "- Bootstrap: The 95% bootstrapped confidence interval is 10.46 to 10.52\n",
    "- Bayesian: The 0.95 bayes credible interval is 9.80 to 10.66"
   ]
  },
  {
   "cell_type": "markdown",
   "metadata": {},
   "source": [
    "### Density Confidence Interval - using classical method"
   ]
  },
  {
   "cell_type": "code",
   "execution_count": 48,
   "metadata": {},
   "outputs": [
    {
     "name": "stdout",
     "output_type": "stream",
     "text": [
      "The half width is 0.0008\n",
      "The actual density mean is 0.9947\n",
      "The 0.95 level CI for density is (0.9939 , 0.9955)\n"
     ]
    }
   ],
   "source": [
    "alpha = 0.95\n",
    "half_width = ss.norm.ppf((1 + alpha)/2, loc=den_pop_mean, scale=den_pop_std) - den_pop_mean\n",
    "print('The half width is %.4f' % half_width)\n",
    "\n",
    "den_ci_low = den_pop_mean - half_width\n",
    "den_ci_high = den_pop_mean + half_width\n",
    "\n",
    "print('The actual density mean is %.4f' % wine['density'].mean())\n",
    "print('The %.2f level CI for density is (%.4f , %.4f)' % (alpha, den_ci_low, den_ci_high))"
   ]
  },
  {
   "cell_type": "markdown",
   "metadata": {},
   "source": [
    "### Density Confidence Interval - using bootstrap method"
   ]
  },
  {
   "cell_type": "code",
   "execution_count": 49,
   "metadata": {},
   "outputs": [
    {
     "name": "stdout",
     "output_type": "stream",
     "text": [
      "95% bootstrapped confidence interval is 0.994625508619356 to 0.9947712801100462\n"
     ]
    }
   ],
   "source": [
    "confidence_interval(density_bootstrap_means)"
   ]
  },
  {
   "cell_type": "markdown",
   "metadata": {},
   "source": [
    "### Density Confidence Interval - using Bayesian"
   ]
  },
  {
   "cell_type": "code",
   "execution_count": 50,
   "metadata": {},
   "outputs": [
    {
     "name": "stdout",
     "output_type": "stream",
     "text": [
      "The 0.950 bayes credible interval is 0.9935 to 0.9957\n"
     ]
    }
   ],
   "source": [
    "confidence_interval_bayes(p_density, post_density, num_samples=100000, lower_q=0.025, upper_q=0.975)"
   ]
  },
  {
   "cell_type": "markdown",
   "metadata": {},
   "source": [
    "### Density Confidence Interval Summary:\n",
    "- Classical: The 0.95 level CI for density is (0.9938 , 0.9955)\n",
    "- Bootstrap: The 95% bootstrapped confidence interval is 0.9946 to 0.9948\n",
    "- Bayesian: The 0.95 bayes credible interval is 0.9938 to 0.9963"
   ]
  },
  {
   "cell_type": "markdown",
   "metadata": {},
   "source": [
    "## Hypothesis Test to determine if the differences in alcohol and density between red and white wines are significant"
   ]
  },
  {
   "cell_type": "markdown",
   "metadata": {},
   "source": [
    "### Alcohol - T-test"
   ]
  },
  {
   "cell_type": "code",
   "execution_count": 51,
   "metadata": {},
   "outputs": [],
   "source": [
    "def t_test(a, b, alpha, alternative='two-sided'):\n",
    "    from scipy import stats\n",
    "    import scipy.stats as ss\n",
    "    import pandas as pd\n",
    "    import statsmodels.stats.weightstats as ws\n",
    "    \n",
    "    diff = a.mean() - b.mean()\n",
    "\n",
    "    res = ss.ttest_ind(a, b, equal_var=False)\n",
    "      \n",
    "    means = ws.CompareMeans(ws.DescrStatsW(a), ws.DescrStatsW(b))\n",
    "    confint = means.tconfint_diff(alpha=alpha, alternative=alternative, usevar='unequal') \n",
    "    degfree = means.dof_satt()\n",
    "\n",
    "    index = ['DegFreedom', 'Difference', 'Statistic', 'PValue', 'Low95CI', 'High95CI']\n",
    "    return pd.Series([degfree, diff, res[0], res[1], confint[0], confint[1]], index = index)   "
   ]
  },
  {
   "cell_type": "code",
   "execution_count": 52,
   "metadata": {},
   "outputs": [
    {
     "data": {
      "text/plain": [
       "DegFreedom    3100.474621\n",
       "Difference      -0.091284\n",
       "Statistic       -2.859029\n",
       "PValue           0.004278\n",
       "Low95CI         -0.153887\n",
       "High95CI        -0.028681\n",
       "dtype: float64"
      ]
     },
     "execution_count": 52,
     "metadata": {},
     "output_type": "execute_result"
    }
   ],
   "source": [
    "alcohol_test = t_test(wine.loc[wine.type=='red', 'alcohol'], wine.loc[wine.type=='white', 'alcohol'], 0.05)\n",
    "alcohol_test"
   ]
  },
  {
   "cell_type": "markdown",
   "metadata": {},
   "source": [
    "- The t-statistic is big and the p-value is small. Therefore, there is a low chance that the difference in means is from random variation alone.\n",
    "- The 95% confidence interval does not straddle 0.\n",
    "\n",
    "**Based on these statistics we can reject the null hypothesis. The mean alcohol content of red and white wines are significantly different.**"
   ]
  },
  {
   "cell_type": "markdown",
   "metadata": {},
   "source": [
    "### Alcohol - Bootstrap test"
   ]
  },
  {
   "cell_type": "code",
   "execution_count": 53,
   "metadata": {},
   "outputs": [],
   "source": [
    "def plot_hist(x, p=5, bins=10):\n",
    "    # Plot the distribution and mark the mean\n",
    "    plt.hist(x, alpha=.5, bins=bins)\n",
    "    plt.axvline(x.mean())\n",
    "    # 95% confidence interval    \n",
    "    plt.axvline(np.percentile(x, p/2.), color='red', linewidth=3)\n",
    "    plt.axvline(np.percentile(x, 100-p/2.), color='red', linewidth=3)"
   ]
  },
  {
   "cell_type": "code",
   "execution_count": 54,
   "metadata": {},
   "outputs": [
    {
     "data": {
      "image/png": "[encoded data removed]",
      "text/plain": [
       "<Figure size 432x288 with 1 Axes>"
      ]
     },
     "metadata": {},
     "output_type": "display_data"
    }
   ],
   "source": [
    "n_replicas = 1000\n",
    "\n",
    "diffs = []\n",
    "for i in range(n_replicas):\n",
    "    sample = wine.sample(frac=1.0, replace=True)\n",
    "    red_sample_mean = sample[sample['type'] == 'red'].alcohol.mean()\n",
    "    white_sample_mean = sample[sample['type'] == 'white'].alcohol.mean()\n",
    "    diffs.append(red_sample_mean - white_sample_mean)\n",
    "diffs = pd.Series(diffs)\n",
    "\n",
    "plot_hist(diffs)"
   ]
  },
  {
   "cell_type": "markdown",
   "metadata": {},
   "source": [
    "The 95% confidence interval does not include zero. Therefore, similiar to the conclusion from t-test, we can state that the mean alcohol content of red and white wines are significantly different."
   ]
  },
  {
   "cell_type": "markdown",
   "metadata": {},
   "source": [
    "### Density - T-test"
   ]
  },
  {
   "cell_type": "code",
   "execution_count": 55,
   "metadata": {},
   "outputs": [
    {
     "data": {
      "text/plain": [
       "DegFreedom    4340.357457\n",
       "Difference       0.002719\n",
       "Statistic       42.708511\n",
       "PValue           0.000000\n",
       "Low95CI          0.002594\n",
       "High95CI         0.002844\n",
       "dtype: float64"
      ]
     },
     "execution_count": 55,
     "metadata": {},
     "output_type": "execute_result"
    }
   ],
   "source": [
    "density_test = t_test(wine.loc[wine.type=='red', 'density'], wine.loc[wine.type=='white', 'density'], 0.05)\n",
    "density_test"
   ]
  },
  {
   "cell_type": "markdown",
   "metadata": {},
   "source": [
    "- The t-statistic is big and the p-value is small. Therefore, there is a low chance that the difference in means is from random variation alone\n",
    "- The 95% confidence interval does not straddle 0.\n",
    "\n",
    "**Based on these statistics we can reject the null hypothesis. The mean density of red and white wines are significantly different.**"
   ]
  },
  {
   "cell_type": "markdown",
   "metadata": {},
   "source": [
    "### Density - Bootstrap test"
   ]
  },
  {
   "cell_type": "code",
   "execution_count": 56,
   "metadata": {},
   "outputs": [
    {
     "data": {
      "image/png": "[encoded data removed]",
      "text/plain": [
       "<Figure size 432x288 with 1 Axes>"
      ]
     },
     "metadata": {},
     "output_type": "display_data"
    }
   ],
   "source": [
    "diffs = []\n",
    "for i in range(n_replicas):\n",
    "    sample = wine.sample(frac=1.0, replace=True)\n",
    "    red_sample_mean = sample[sample['type'] == 'red'].density.mean()\n",
    "    white_sample_mean = sample[sample['type'] == 'white'].density.mean()\n",
    "    diffs.append(red_sample_mean - white_sample_mean)\n",
    "diffs = pd.Series(diffs)\n",
    "\n",
    "plot_hist(diffs)"
   ]
  },
  {
   "cell_type": "markdown",
   "metadata": {},
   "source": [
    "The 95% confidence interval does not include zero. Therefore, similiar to the conclusion from t-test, we can state that the mean density of red and white wines are significantly different."
   ]
  },
  {
   "cell_type": "markdown",
   "metadata": {},
   "source": [
    "## Feature Significance Summary"
   ]
  },
  {
   "cell_type": "markdown",
   "metadata": {},
   "source": [
    "1. Identify a likely distribution for those features\n",
    "    - Alcohol: Right skewed normal distribution \n",
    "    - Density: Normal distribution\n",
    "2. Compute basic summary statistics by classical, bootstrap, and Bayesian methods\n",
    "    - Alcohol:\n",
    "        - Classical: mean of 10.48 with std of 0.163\n",
    "        - Bootstrap: mean of 10.49 with std of 0.014\n",
    "        - Bayesian: mean of 10.228 with std of 1.119\n",
    "    - Density: \n",
    "        - Classical: mean of 0.9947 with std of 0.000426\n",
    "        - Bootstrap: mean of 0.9947 with std of 0.000037\n",
    "        - Bayesian: mean of 0.995 with std of 0.003\n",
    "3. Compute CI by classical, bootstrap, and Bayesian\n",
    "    - Alcohol:\n",
    "        - Classical: The 0.95 level CI for alcohol is (10.17 , 10.82)\n",
    "        - Bootstrap: The 95% bootstrapped confidence interval is 10.46 to 10.52\n",
    "        - Bayesian: The 0.95 bayes credible interval is 9.80 to 10.66\n",
    "    - Density:\n",
    "        - Classical: The 0.95 level CI for density is (0.9938 , 0.9955)\n",
    "        - Bootstrap: The 95% bootstrapped confidence interval is 0.9946 to 0.9948\n",
    "        - Bayesian: The 0.95 bayes credible interval is 0.9938 to 0.9963\n",
    "4. Perform hypothesis Test to determine if the differences in alcohol and density between red and white wines are significant\n",
    "    - Alcohol: Both t-test and bootstrap determined that the mean alcohol content of red and white wines are significantly different\n",
    "    - Density: Both t-test and bootstrap determined that the mean density of red and white wines are significantly different"
   ]
  },
  {
   "cell_type": "markdown",
   "metadata": {},
   "source": [
    "# Milestone 3 - Linear Regression Model"
   ]
  },
  {
   "cell_type": "markdown",
   "metadata": {},
   "source": [
    "From milestone 1, we found that quality of wine is more correlated (corr>0.2) with the following features: alcohol, density, volatile acidity, and chlorides. And from milestone 2, we found that the top 2 features (alcohol and density) are significantly different between red and white wines.\n",
    "\n",
    "In this milestone, I'll prepare the data via cleaning and normalizing before using a linear regression model to predict the quality scores of wines."
   ]
  },
  {
   "cell_type": "markdown",
   "metadata": {},
   "source": [
    "#### Data Preprocessing"
   ]
  },
  {
   "cell_type": "code",
   "execution_count": 57,
   "metadata": {},
   "outputs": [],
   "source": [
    "#label encoding wine type\n",
    "le = LabelEncoder() \n",
    "  \n",
    "wine['type']= le.fit_transform(wine['type']) "
   ]
  },
  {
   "cell_type": "code",
   "execution_count": 58,
   "metadata": {},
   "outputs": [],
   "source": [
    "features = ['type', 'fixed acidity', 'volatile acidity', 'citric acid', 'residual sugar',\n",
    "           'chlorides', 'free sulfur dioxide', 'total sulfur dioxide', 'density',\n",
    "           'pH', 'sulphates', 'alcohol']\n",
    "target = 'quality'\n",
    "\n",
    "#split into training and testing data sets\n",
    "X_train, X_test, y_train, y_test = train_test_split(wine[features], wine[target], test_size =0.20)"
   ]
  },
  {
   "cell_type": "code",
   "execution_count": 59,
   "metadata": {},
   "outputs": [
    {
     "data": {
      "text/plain": [
       "1217    6\n",
       "1050    5\n",
       "2443    5\n",
       "574     7\n",
       "3372    6\n",
       "       ..\n",
       "1314    6\n",
       "2502    4\n",
       "1912    6\n",
       "3700    5\n",
       "14      5\n",
       "Name: quality, Length: 5197, dtype: int64"
      ]
     },
     "execution_count": 59,
     "metadata": {},
     "output_type": "execute_result"
    }
   ],
   "source": [
    "y_train"
   ]
  },
  {
   "cell_type": "code",
   "execution_count": 60,
   "metadata": {},
   "outputs": [
    {
     "name": "stdout",
     "output_type": "stream",
     "text": [
      "[[ 0.59748953 -0.99247603  0.16191966 -1.24876255  0.18295896 -0.58990879\n",
      "   0.20400862  1.23259163 -0.11311784 -0.31216499  0.65079057 -0.6037672 ]\n",
      " [ 0.59748953 -0.61340127 -0.74839699  0.15155774 -0.85156998 -0.97687686\n",
      "   1.3923277   0.01215076 -1.73879769 -0.25025584  1.1276178   0.97233192]\n",
      " [ 0.59748953 -1.14410593 -0.86977254 -0.5486024   1.76642163 -0.26247426\n",
      "   0.74415366 -0.04015385  1.22587572 -1.550348    0.8551451  -1.43329306]\n",
      " [-1.6736695   0.90289775  1.95220906  2.04199013 -0.72489297  1.67236611\n",
      "  -0.93029595 -0.33654663  0.76380489 -0.37407414  0.03772699 -1.1844353 ]\n",
      " [-1.6736695  -0.00688166  0.28329521  0.01152571 -0.76711864  0.27332769\n",
      "   0.20400862 -0.94676706  0.81102381  1.48320039  1.6725632  -0.52081462]]\n",
      "[[-1.77043698  0.76176723  0.00758228  0.35153908 -0.74447545  0.02577845\n",
      "   0.70647948 -0.74787195 -0.20186318  0.07460331  1.8725554   1.27582518]\n",
      " [ 0.56483231  0.06441554 -0.60005238  0.14594826  0.43133595 -0.22859616\n",
      "  -0.09121806  0.63756434  0.50323049 -0.73494928  0.06384415 -1.24687185]\n",
      " [ 0.56483231 -0.47796911 -0.11394465  0.07741798 -0.61849565 -0.11554077\n",
      "   0.5355443   1.83649959 -0.50784722 -0.4235829   0.46577998 -0.40597284]\n",
      " [ 0.56483231  0.14189906 -0.84310625  0.07741798 -0.74447545 -0.59602615\n",
      "   0.4785659   0.38889629 -1.22624455 -0.29903635 -0.60604891  1.02355548]\n",
      " [ 0.56483231 -1.25280433 -1.14692358 -0.40229395  0.02190162 -0.14380462\n",
      "   1.16230665  0.40665829 -0.44132895  1.56916195 -0.20411308  0.43492617]]\n"
     ]
    }
   ],
   "source": [
    "#perform standardization before appling PCA\n",
    "scaler = StandardScaler()\n",
    "scaler.fit(X_test)\n",
    "X_test = scaler.transform(X_test)\n",
    "scaler.fit(X_train)\n",
    "X_train = scaler.transform(X_train)\n",
    "print(X_test[:5])\n",
    "print(X_train[:5])"
   ]
  },
  {
   "cell_type": "code",
   "execution_count": 61,
   "metadata": {},
   "outputs": [],
   "source": [
    "#PCA\n",
    "pca = PCA(n_components=12)\n",
    "pca_result = pca.fit_transform(X_train)\n",
    "\n",
    "column_names = ['pc' + str(ix+1) for ix in range(X_train.shape[1])]\n",
    "pca_df = pd.DataFrame(data = pca_result, columns=column_names)\n",
    "pca_df[target] = y_train.values"
   ]
  },
  {
   "cell_type": "code",
   "execution_count": 62,
   "metadata": {},
   "outputs": [
    {
     "data": {
      "text/plain": [
       "Text(0, 0.5, 'Explained Variance')"
      ]
     },
     "execution_count": 62,
     "metadata": {},
     "output_type": "execute_result"
    },
    {
     "data": {
      "image/png": "[encoded data removed]",
      "text/plain": [
       "<Figure size 432x288 with 1 Axes>"
      ]
     },
     "metadata": {},
     "output_type": "display_data"
    }
   ],
   "source": [
    "# Plot the explained variance for all principal components.\n",
    "# Note: If the first value is too large, it may dwarf how the rest look.\n",
    "# You may consider plotting starting with the 2nd value (python index at 1).\n",
    "plt.plot([i + 1 for i in range(12)], pca.explained_variance_)\n",
    "plt.title('Explained variance by Principal Component Num')\n",
    "plt.xlabel('Principal Component')\n",
    "plt.ylabel('Explained Variance')"
   ]
  },
  {
   "cell_type": "markdown",
   "metadata": {},
   "source": [
    "It appears that between 4-6 principal compoents are needed for a significant fit."
   ]
  },
  {
   "cell_type": "code",
   "execution_count": 63,
   "metadata": {},
   "outputs": [
    {
     "data": {
      "text/plain": [
       "array([3.81814368, 2.54141373, 1.55547471, 0.96091476, 0.7328441 ,\n",
       "       0.61396138, 0.52976977, 0.50117609, 0.34844287, 0.2562556 ,\n",
       "       0.11848822, 0.02542457])"
      ]
     },
     "execution_count": 63,
     "metadata": {},
     "output_type": "execute_result"
    }
   ],
   "source": [
    "pca.explained_variance_"
   ]
  },
  {
   "cell_type": "markdown",
   "metadata": {},
   "source": [
    "#### Linear regression with all 12 features"
   ]
  },
  {
   "cell_type": "code",
   "execution_count": 64,
   "metadata": {},
   "outputs": [
    {
     "name": "stdout",
     "output_type": "stream",
     "text": [
      "                            OLS Regression Results                            \n",
      "==============================================================================\n",
      "Dep. Variable:                quality   R-squared:                       0.296\n",
      "Model:                            OLS   Adj. R-squared:                  0.294\n",
      "Method:                 Least Squares   F-statistic:                     181.3\n",
      "Date:                Thu, 04 Jun 2020   Prob (F-statistic):               0.00\n",
      "Time:                        12:59:30   Log-Likelihood:                -5734.0\n",
      "No. Observations:                5197   AIC:                         1.149e+04\n",
      "Df Residuals:                    5184   BIC:                         1.158e+04\n",
      "Df Model:                          12                                         \n",
      "Covariance Type:            nonrobust                                         \n",
      "==============================================================================\n",
      "                 coef    std err          t      P>|t|      [0.025      0.975]\n",
      "------------------------------------------------------------------------------\n",
      "Intercept      5.8184      0.010    574.384      0.000       5.798       5.838\n",
      "pc1           -0.0634      0.005    -12.219      0.000      -0.074      -0.053\n",
      "pc2           -0.1580      0.006    -24.864      0.000      -0.170      -0.146\n",
      "pc3            0.1411      0.008     17.370      0.000       0.125       0.157\n",
      "pc4            0.1426      0.010     13.797      0.000       0.122       0.163\n",
      "pc5           -0.1907      0.012    -16.115      0.000      -0.214      -0.168\n",
      "pc6            0.1724      0.013     13.336      0.000       0.147       0.198\n",
      "pc7            0.0947      0.014      6.807      0.000       0.067       0.122\n",
      "pc8            0.1195      0.014      8.351      0.000       0.091       0.148\n",
      "pc9           -0.3111      0.017    -18.126      0.000      -0.345      -0.277\n",
      "pc10           0.0149      0.020      0.745      0.456      -0.024       0.054\n",
      "pc11           0.0509      0.029      1.728      0.084      -0.007       0.109\n",
      "pc12          -0.3481      0.064     -5.480      0.000      -0.473      -0.224\n",
      "==============================================================================\n",
      "Omnibus:                       89.758   Durbin-Watson:                   1.957\n",
      "Prob(Omnibus):                  0.000   Jarque-Bera (JB):              175.230\n",
      "Skew:                           0.057   Prob(JB):                     8.90e-39\n",
      "Kurtosis:                       3.892   Cond. No.                         12.3\n",
      "==============================================================================\n",
      "\n",
      "Warnings:\n",
      "[1] Standard Errors assume that the covariance matrix of the errors is correctly specified.\n"
     ]
    },
    {
     "data": {
      "text/plain": [
       "Text(0.5, 1.0, 'Residual Histogram')"
      ]
     },
     "execution_count": 64,
     "metadata": {},
     "output_type": "execute_result"
    },
    {
     "data": {
      "image/png": "[encoded data removed]",
      "text/plain": [
       "<Figure size 432x288 with 1 Axes>"
      ]
     },
     "metadata": {},
     "output_type": "display_data"
    }
   ],
   "source": [
    "n = 12\n",
    "formula_start = target + ' ~ '\n",
    "formula_terms = ['pc' + str(x+1) for x in range(n)]\n",
    "formula_end = ' + '.join(formula_terms)\n",
    "formula_final = formula_start + formula_end\n",
    "\n",
    "pcr_model = sm.ols(formula = formula_final, data=pca_df)\n",
    "\n",
    "results = pcr_model.fit()\n",
    "\n",
    "# Get most of the linear regression statistics we are interested in:\n",
    "print(results.summary())\n",
    "\n",
    "# Plot a histogram of the residuals\n",
    "sns.distplot(results.resid, hist=True)\n",
    "plt.xlabel('Residual')\n",
    "plt.ylabel('Frequency')\n",
    "plt.title('Residual Histogram')"
   ]
  },
  {
   "cell_type": "markdown",
   "metadata": {},
   "source": [
    "- The adjusted R-Squared is 0.291. Adjusted R-Squared shows how well the data points fits the regression line, taking into account the number of terms in the model.\n",
    "- Using a threshold of 0.05, it appears that all but pc10 and pc11 have power greater than 0.05 so let's try the PCA regression with all but those inputs:"
   ]
  },
  {
   "cell_type": "code",
   "execution_count": 65,
   "metadata": {},
   "outputs": [
    {
     "name": "stdout",
     "output_type": "stream",
     "text": [
      "                            OLS Regression Results                            \n",
      "==============================================================================\n",
      "Dep. Variable:                quality   R-squared:                       0.295\n",
      "Model:                            OLS   Adj. R-squared:                  0.294\n",
      "Method:                 Least Squares   F-statistic:                     217.1\n",
      "Date:                Thu, 04 Jun 2020   Prob (F-statistic):               0.00\n",
      "Time:                        12:59:31   Log-Likelihood:                -5735.8\n",
      "No. Observations:                5197   AIC:                         1.149e+04\n",
      "Df Residuals:                    5186   BIC:                         1.157e+04\n",
      "Df Model:                          10                                         \n",
      "Covariance Type:            nonrobust                                         \n",
      "==============================================================================\n",
      "                 coef    std err          t      P>|t|      [0.025      0.975]\n",
      "------------------------------------------------------------------------------\n",
      "Intercept      5.8184      0.010    574.299      0.000       5.798       5.838\n",
      "pc1           -0.0634      0.005    -12.217      0.000      -0.074      -0.053\n",
      "pc2           -0.1580      0.006    -24.861      0.000      -0.170      -0.146\n",
      "pc3            0.1411      0.008     17.368      0.000       0.125       0.157\n",
      "pc4            0.1426      0.010     13.795      0.000       0.122       0.163\n",
      "pc5           -0.1907      0.012    -16.112      0.000      -0.214      -0.167\n",
      "pc6            0.1724      0.013     13.334      0.000       0.147       0.198\n",
      "pc7            0.0947      0.014      6.806      0.000       0.067       0.122\n",
      "pc8            0.1195      0.014      8.350      0.000       0.091       0.148\n",
      "pc9           -0.3111      0.017    -18.123      0.000      -0.345      -0.277\n",
      "pc12          -0.3481      0.064     -5.479      0.000      -0.473      -0.224\n",
      "==============================================================================\n",
      "Omnibus:                       90.793   Durbin-Watson:                   1.958\n",
      "Prob(Omnibus):                  0.000   Jarque-Bera (JB):              178.935\n",
      "Skew:                           0.053   Prob(JB):                     1.40e-39\n",
      "Kurtosis:                       3.903   Cond. No.                         12.3\n",
      "==============================================================================\n",
      "\n",
      "Warnings:\n",
      "[1] Standard Errors assume that the covariance matrix of the errors is correctly specified.\n"
     ]
    },
    {
     "data": {
      "text/plain": [
       "Text(0.5, 1.0, 'Residual Histogram')"
      ]
     },
     "execution_count": 65,
     "metadata": {},
     "output_type": "execute_result"
    },
    {
     "data": {
      "image/png": "[encoded data removed]",
      "text/plain": [
       "<Figure size 432x288 with 1 Axes>"
      ]
     },
     "metadata": {},
     "output_type": "display_data"
    }
   ],
   "source": [
    "# perform linear regression with all but pc10 and pc11\n",
    "formula_final = target + ' ~ pc1 + pc2 + pc3 + pc4 + pc5 + pc6 + pc7 + pc8 + pc9 + pc12'\n",
    "\n",
    "pcr_model = sm.ols(formula = formula_final, data=pca_df)\n",
    "\n",
    "results = pcr_model.fit()\n",
    "\n",
    "# Get most of the linear regression statistics we are interested in:\n",
    "print(results.summary())\n",
    "\n",
    "# Plot a histogram of the residuals\n",
    "sns.distplot(results.resid, hist=True)\n",
    "plt.xlabel('Residual')\n",
    "plt.ylabel('Frequency')\n",
    "plt.title('Residual Histogram')"
   ]
  },
  {
   "cell_type": "markdown",
   "metadata": {},
   "source": [
    "With two features removed, the adjusted R-Squared is still 0.291. All model coefficients are now significant."
   ]
  },
  {
   "cell_type": "markdown",
   "metadata": {},
   "source": [
    "### Sklearn - Multivariant Linear Regression"
   ]
  },
  {
   "cell_type": "code",
   "execution_count": 66,
   "metadata": {},
   "outputs": [
    {
     "name": "stdout",
     "output_type": "stream",
     "text": [
      "Intercept: \n",
      " 5.818356744275544\n",
      "Coefficients: \n",
      " [-0.06335062 -0.15800867  0.14109573  0.07129535  0.07129535 -0.1907004\n",
      "  0.17241642  0.09474582  0.1195075  -0.31107729 -0.34814936]\n"
     ]
    }
   ],
   "source": [
    "# with sklearn\n",
    "regression_model = LinearRegression()\n",
    "# Fit the data(train the model)\n",
    "x=pca_df[['pc1', 'pc2', 'pc3', 'pc4', 'pc4', 'pc5', 'pc6', 'pc7', 'pc8', 'pc9', 'pc12']]\n",
    "y=pca_df['quality']\n",
    "\n",
    "regression_model.fit(x, y)\n",
    "\n",
    "# Predict\n",
    "y_predicted = regression_model.predict(x)\n",
    "\n",
    "print('Intercept: \\n', regression_model.intercept_) # pull out intercept\n",
    "print('Coefficients: \\n', regression_model.coef_) # pull out coeffeicients"
   ]
  },
  {
   "cell_type": "code",
   "execution_count": 67,
   "metadata": {},
   "outputs": [],
   "source": [
    "# transform X_test as input into the model\n",
    "column_names = ['pc' + str(ix+1) for ix in range(X_test.shape[1])]\n",
    "X_test = pd.DataFrame(data = X_test, columns=column_names)\n",
    "X_test = X_test[['pc1', 'pc2', 'pc3', 'pc4', 'pc4', 'pc5', 'pc6', 'pc7', 'pc8', 'pc9', 'pc12']]"
   ]
  },
  {
   "cell_type": "code",
   "execution_count": 68,
   "metadata": {},
   "outputs": [],
   "source": [
    "# prediction with sklearn\n",
    "y_pred = regression_model.predict(X_test)"
   ]
  },
  {
   "cell_type": "code",
   "execution_count": 69,
   "metadata": {},
   "outputs": [
    {
     "name": "stdout",
     "output_type": "stream",
     "text": [
      "      Actual  Predicted\n",
      "693        5   6.057532\n",
      "2597       6   6.123161\n",
      "4580       6   5.561590\n",
      "393        5   6.821314\n",
      "1539       5   5.995717\n",
      "1321       6   5.338082\n",
      "2350       5   5.159400\n",
      "715        7   6.085997\n",
      "169        5   5.310067\n",
      "708        6   5.205105\n"
     ]
    }
   ],
   "source": [
    "# check difference between actual and predicted value\n",
    "comparison = pd.DataFrame({'Actual': y_test, 'Predicted': y_pred})\n",
    "print(comparison.head(10))"
   ]
  },
  {
   "cell_type": "markdown",
   "metadata": {},
   "source": [
    "Looks like we are in the general right direction with predicted fairly close to actual."
   ]
  },
  {
   "cell_type": "code",
   "execution_count": 70,
   "metadata": {},
   "outputs": [
    {
     "name": "stdout",
     "output_type": "stream",
     "text": [
      "Mean Absolute Error: 0.85718752777389\n",
      "Mean Squared Error: 1.183093781749693\n",
      "Root Mean Squared Error: 1.0877011454207874\n"
     ]
    }
   ],
   "source": [
    "# model evaluation\n",
    "print('Mean Absolute Error:', metrics.mean_absolute_error(y_test, y_pred))  \n",
    "print('Mean Squared Error:', metrics.mean_squared_error(y_test, y_pred))  \n",
    "print('Root Mean Squared Error:', np.sqrt(metrics.mean_squared_error(y_test, y_pred)))"
   ]
  },
  {
   "cell_type": "markdown",
   "metadata": {},
   "source": [
    "The root mean squared error is 1.39 which is slightly greater than 20% of the mean value of 5.82. This means that the model can make general good prediction, but is not very accurate."
   ]
  },
  {
   "cell_type": "markdown",
   "metadata": {},
   "source": [
    "## Summary:\n",
    "- In this milestone, we prepared the data for modeling, used PCA to narrow down the features, and finally performed multivariant linear regression on the test data. The RMSE is 1.39 (~20% of the target mean), meaning that the model can make general good prediction, but is not very accurate."
   ]
  },
  {
   "cell_type": "markdown",
   "metadata": {},
   "source": [
    "# Naive Bayes Classification Model"
   ]
  },
  {
   "cell_type": "code",
   "execution_count": 71,
   "metadata": {},
   "outputs": [],
   "source": [
    "# We learned from PCA that pc10 and pc11 are not significant so we'll drop them from the dataset\n",
    "wine_nb = wine.drop(['pH', 'sulphates'], axis = 1)\n",
    "# remember name of output/outcome/target column\n",
    "label_col = 'quality'"
   ]
  },
  {
   "cell_type": "code",
   "execution_count": 72,
   "metadata": {},
   "outputs": [
    {
     "data": {
      "text/plain": [
       "type                      int32\n",
       "fixed acidity           float64\n",
       "volatile acidity        float64\n",
       "citric acid             float64\n",
       "residual sugar          float64\n",
       "chlorides               float64\n",
       "free sulfur dioxide     float64\n",
       "total sulfur dioxide    float64\n",
       "density                 float64\n",
       "alcohol                 float64\n",
       "quality                   int64\n",
       "log_alcohol             float64\n",
       "dtype: object"
      ]
     },
     "execution_count": 72,
     "metadata": {},
     "output_type": "execute_result"
    }
   ],
   "source": [
    "wine_nb.dtypes"
   ]
  },
  {
   "cell_type": "code",
   "execution_count": 73,
   "metadata": {},
   "outputs": [
    {
     "name": "stdout",
     "output_type": "stream",
     "text": [
      "X: (6497, 11) y: (6497,)\n"
     ]
    }
   ],
   "source": [
    "# Create label vector\n",
    "wine_nb[label_col]=wine_nb[label_col].astype('category')\n",
    "y = wine_nb[label_col].cat.codes\n",
    "\n",
    "# Create 2D Feature array and labes\n",
    "X = []\n",
    "for c in wine_nb.columns:\n",
    "    if c != label_col:\n",
    "        if str(wine_nb[c].dtype) == 'category':\n",
    "            X.append(wine_nb[c].cat.codes)\n",
    "        else:\n",
    "            X.append(wine_nb[c])\n",
    "X = np.array(X).T\n",
    "print('X:', X.shape, 'y:', y.shape)"
   ]
  },
  {
   "cell_type": "code",
   "execution_count": 74,
   "metadata": {},
   "outputs": [
    {
     "name": "stdout",
     "output_type": "stream",
     "text": [
      "X_nb_test: (1300, 11) y_nb_test: (1300,)\n"
     ]
    }
   ],
   "source": [
    "#split into training and testing data sets\n",
    "X_nb_train, X_nb_test, y_nb_train, y_nb_test = train_test_split(X, y, test_size =0.20)\n",
    "print('X_nb_test:', X_nb_test.shape, 'y_nb_test:', y_nb_test.shape)"
   ]
  },
  {
   "cell_type": "code",
   "execution_count": 75,
   "metadata": {},
   "outputs": [],
   "source": [
    "# Create the Model using training data\n",
    "modelNB = n_b.MultinomialNB(alpha=3)\n",
    "\n",
    "#Train the model using the training sets\n",
    "modelNB.fit(X_nb_train, y_nb_train)\n",
    "\n",
    "#Predict the response for test dataset\n",
    "y_nb_pred = modelNB.predict(X_nb_test)\n",
    "y_nb_pred_prob = modelNB.predict_proba(X_nb_test)"
   ]
  },
  {
   "cell_type": "markdown",
   "metadata": {},
   "source": [
    "### Evaluate Model Performance"
   ]
  },
  {
   "cell_type": "code",
   "execution_count": 76,
   "metadata": {},
   "outputs": [
    {
     "data": {
      "text/html": [
       "<div>\n",
       "<style scoped>\n",
       "    .dataframe tbody tr th:only-of-type {\n",
       "        vertical-align: middle;\n",
       "    }\n",
       "\n",
       "    .dataframe tbody tr th {\n",
       "        vertical-align: top;\n",
       "    }\n",
       "\n",
       "    .dataframe thead th {\n",
       "        text-align: right;\n",
       "    }\n",
       "</style>\n",
       "<table border=\"1\" class=\"dataframe\">\n",
       "  <thead>\n",
       "    <tr style=\"text-align: right;\">\n",
       "      <th></th>\n",
       "      <th>quality</th>\n",
       "      <th>predicted</th>\n",
       "    </tr>\n",
       "  </thead>\n",
       "  <tbody>\n",
       "    <tr>\n",
       "      <th>508</th>\n",
       "      <td>3</td>\n",
       "      <td>4</td>\n",
       "    </tr>\n",
       "    <tr>\n",
       "      <th>664</th>\n",
       "      <td>2</td>\n",
       "      <td>4</td>\n",
       "    </tr>\n",
       "    <tr>\n",
       "      <th>910</th>\n",
       "      <td>3</td>\n",
       "      <td>4</td>\n",
       "    </tr>\n",
       "    <tr>\n",
       "      <th>1381</th>\n",
       "      <td>2</td>\n",
       "      <td>1</td>\n",
       "    </tr>\n",
       "    <tr>\n",
       "      <th>2376</th>\n",
       "      <td>3</td>\n",
       "      <td>2</td>\n",
       "    </tr>\n",
       "  </tbody>\n",
       "</table>\n",
       "</div>"
      ],
      "text/plain": [
       "      quality  predicted\n",
       "508         3          4\n",
       "664         2          4\n",
       "910         3          4\n",
       "1381        2          1\n",
       "2376        3          2"
      ]
     },
     "execution_count": 76,
     "metadata": {},
     "output_type": "execute_result"
    }
   ],
   "source": [
    "# take a look at the model results compared to the actual quality score\n",
    "results = pd.DataFrame({\n",
    "        'quality': y_nb_test,\n",
    "        'predicted': y_nb_pred,\n",
    "    })\n",
    "results.head()"
   ]
  },
  {
   "cell_type": "code",
   "execution_count": 77,
   "metadata": {},
   "outputs": [
    {
     "name": "stdout",
     "output_type": "stream",
     "text": [
      "Mean Absolute Error: 0.8430769230769231\n",
      "Mean Squared Error: 1.3476923076923077\n",
      "Root Mean Squared Error: 1.1609015064562143\n",
      "Accuracy: 0.3669230769230769\n"
     ]
    }
   ],
   "source": [
    "# model evaluation\n",
    "print('Mean Absolute Error:', metrics.mean_absolute_error(y_nb_test, y_nb_pred))  \n",
    "print('Mean Squared Error:', metrics.mean_squared_error(y_nb_test, y_nb_pred))  \n",
    "print('Root Mean Squared Error:', np.sqrt(metrics.mean_squared_error(y_nb_test, y_nb_pred)))\n",
    "print('Accuracy:', metrics.accuracy_score(y_nb_test, y_nb_pred))"
   ]
  },
  {
   "cell_type": "markdown",
   "metadata": {},
   "source": [
    "The root mean squared error is 1.02 which is better than the RMSE from the multivariant linear regression model. However the accuracy score is only 0.413. "
   ]
  },
  {
   "cell_type": "markdown",
   "metadata": {},
   "source": [
    "# LightGBM Model"
   ]
  },
  {
   "cell_type": "code",
   "execution_count": 78,
   "metadata": {},
   "outputs": [],
   "source": [
    "params = {\n",
    "          \"objective\" : \"poisson\",\n",
    "          \"metric\" :\"rmse\",\n",
    "          \"force_row_wise\" : True,\n",
    "          \"learning_rate\" : 0.075,\n",
    "          \"sub_row\" : 0.75,\n",
    "          \"bagging_freq\" : 1,\n",
    "          \"lambda_l2\" : 0.1,\n",
    "          \"metric\": [\"rmse\"],\n",
    "          'verbosity': 1,\n",
    "          'num_iterations' : 1200,\n",
    "          'num_leaves': 128,\n",
    "          \"min_data_in_leaf\": 100,\n",
    "         }"
   ]
  },
  {
   "cell_type": "code",
   "execution_count": 79,
   "metadata": {},
   "outputs": [],
   "source": [
    "# use the same training/test set as the naive bayes model\n",
    "train_set = lgb.Dataset(X_nb_train, y_nb_train)\n",
    "val_set   = lgb.Dataset(X_nb_test, y_nb_test)"
   ]
  },
  {
   "cell_type": "code",
   "execution_count": 81,
   "metadata": {},
   "outputs": [
    {
     "name": "stderr",
     "output_type": "stream",
     "text": [
      "C:\\ProgramData\\Anaconda3\\lib\\site-packages\\lightgbm\\engine.py:148: UserWarning: Found `num_iterations` in params. Will use it instead of argument\n",
      "  warnings.warn(\"Found `{}` in params. Will use it instead of argument\".format(alias))\n"
     ]
    },
    {
     "name": "stdout",
     "output_type": "stream",
     "text": [
      "Training until validation scores don't improve for 50 rounds\n",
      "[100]\ttraining's rmse: 0.635621\tvalid_1's rmse: 0.66743\n",
      "[200]\ttraining's rmse: 0.583865\tvalid_1's rmse: 0.652861\n",
      "[300]\ttraining's rmse: 0.546388\tvalid_1's rmse: 0.645827\n",
      "[400]\ttraining's rmse: 0.515364\tvalid_1's rmse: 0.641104\n",
      "[500]\ttraining's rmse: 0.489615\tvalid_1's rmse: 0.638773\n",
      "Early stopping, best iteration is:\n",
      "[538]\ttraining's rmse: 0.480851\tvalid_1's rmse: 0.637547\n"
     ]
    }
   ],
   "source": [
    "#train lgb model\n",
    "lgb_model = lgb.train(params, train_set, num_boost_round=2500, early_stopping_rounds=50, valid_sets = [train_set, val_set], verbose_eval=100)"
   ]
  },
  {
   "cell_type": "code",
   "execution_count": 84,
   "metadata": {},
   "outputs": [
    {
     "name": "stdout",
     "output_type": "stream",
     "text": [
      "train rmse score is 0.48085080508825384\n",
      "test rmse score is 0.6375470820095335\n"
     ]
    }
   ],
   "source": [
    "train_pred = lgb_model.predict(X_nb_train)\n",
    "train_score = np.sqrt(metrics.mean_squared_error(train_pred, y_nb_train))\n",
    "val_pred = lgb_model.predict(X_nb_test)\n",
    "val_score = np.sqrt(metrics.mean_squared_error(val_pred, y_nb_test))\n",
    "\n",
    "print(f'train rmse score is {train_score}')\n",
    "print(f'test rmse score is {val_score}')"
   ]
  },
  {
   "cell_type": "code",
   "execution_count": 86,
   "metadata": {},
   "outputs": [
    {
     "data": {
      "text/html": [
       "<div>\n",
       "<style scoped>\n",
       "    .dataframe tbody tr th:only-of-type {\n",
       "        vertical-align: middle;\n",
       "    }\n",
       "\n",
       "    .dataframe tbody tr th {\n",
       "        vertical-align: top;\n",
       "    }\n",
       "\n",
       "    .dataframe thead th {\n",
       "        text-align: right;\n",
       "    }\n",
       "</style>\n",
       "<table border=\"1\" class=\"dataframe\">\n",
       "  <thead>\n",
       "    <tr style=\"text-align: right;\">\n",
       "      <th></th>\n",
       "      <th>quality</th>\n",
       "      <th>predicted</th>\n",
       "    </tr>\n",
       "  </thead>\n",
       "  <tbody>\n",
       "    <tr>\n",
       "      <th>508</th>\n",
       "      <td>3</td>\n",
       "      <td>2.285377</td>\n",
       "    </tr>\n",
       "    <tr>\n",
       "      <th>664</th>\n",
       "      <td>2</td>\n",
       "      <td>2.762988</td>\n",
       "    </tr>\n",
       "    <tr>\n",
       "      <th>910</th>\n",
       "      <td>3</td>\n",
       "      <td>3.317386</td>\n",
       "    </tr>\n",
       "    <tr>\n",
       "      <th>1381</th>\n",
       "      <td>2</td>\n",
       "      <td>1.597368</td>\n",
       "    </tr>\n",
       "    <tr>\n",
       "      <th>2376</th>\n",
       "      <td>3</td>\n",
       "      <td>3.261397</td>\n",
       "    </tr>\n",
       "  </tbody>\n",
       "</table>\n",
       "</div>"
      ],
      "text/plain": [
       "      quality  predicted\n",
       "508         3   2.285377\n",
       "664         2   2.762988\n",
       "910         3   3.317386\n",
       "1381        2   1.597368\n",
       "2376        3   3.261397"
      ]
     },
     "execution_count": 86,
     "metadata": {},
     "output_type": "execute_result"
    }
   ],
   "source": [
    "# take a look at the model results compared to the actual quality score\n",
    "results = pd.DataFrame({\n",
    "        'quality': y_nb_test,\n",
    "        'predicted': val_pred,\n",
    "    })\n",
    "results.head()"
   ]
  },
  {
   "cell_type": "markdown",
   "metadata": {},
   "source": [
    "The root mean squared error is 0.637 which is better than the RMSE from the multivariant linear regression model and the Naive Bayes Classification Model."
   ]
  },
  {
   "cell_type": "code",
   "execution_count": 94,
   "metadata": {},
   "outputs": [
    {
     "data": {
      "image/png": "[encoded data removed]",
      "text/plain": [
       "<Figure size 432x288 with 1 Axes>"
      ]
     },
     "metadata": {},
     "output_type": "display_data"
    }
   ],
   "source": [
    "# plot predicted results against actual\n",
    "\n",
    "actual=results['quality']\n",
    "predicted=results['predicted']\n",
    "\n",
    "figure = dict(alpha=0.5, bins=10)\n",
    "\n",
    "plt.hist(actual, **figure, color='r', label='Actual')\n",
    "plt.hist(predicted, **figure, color='b', label='Predicted')\n",
    "plt.gca().set(title='Frequency Histogram of Wine Quality', ylabel='Frequency')\n",
    "plt.xlim(0,10)\n",
    "plt.legend()\n",
    "plt.show()"
   ]
  },
  {
   "cell_type": "markdown",
   "metadata": {},
   "source": [
    "The predicted quality follows the same general distribution as the actual. The predicted distribution is more normal."
   ]
  },
  {
   "cell_type": "markdown",
   "metadata": {},
   "source": [
    "# Model Summary\n",
    "I built 3 models to predict quality of wine. The RSME score of each model is:\n",
    "- Linear Regression:1.0877\n",
    "- Naives Bayes: 1.1609\n",
    "- LightGBM: 0.6375\n",
    "\n",
    "**Since the LightGBM model gave us the lowest RMSE, this model should be used to make prediction of wine quality.**"
   ]
  },
  {
   "cell_type": "code",
   "execution_count": null,
   "metadata": {},
   "outputs": [],
   "source": []
  }
 ],
 "metadata": {
  "kernelspec": {
   "display_name": "Python 3",
   "language": "python",
   "name": "python3"
  },
  "language_info": {
   "codemirror_mode": {
    "name": "ipython",
    "version": 3
   },
   "file_extension": ".py",
   "mimetype": "text/x-python",
   "name": "python",
   "nbconvert_exporter": "python",
   "pygments_lexer": "ipython3",
   "version": "3.7.6"
  }
 },
 "nbformat": 4,
 "nbformat_minor": 4
}
